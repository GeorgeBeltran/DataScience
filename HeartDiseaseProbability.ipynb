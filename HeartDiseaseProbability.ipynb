{
 "cells": [
  {
   "cell_type": "code",
   "execution_count": 11,
   "metadata": {
    "collapsed": true,
    "pycharm": {
     "is_executing": false
    }
   },
   "outputs": [],
   "source": [
    "import pandas as pd\n",
    "from sklearn import preprocessing, metrics\n",
    "from sklearn.linear_model import LogisticRegression\n",
    "from sklearn.metrics import accuracy_score\n",
    "from sklearn.model_selection import train_test_split\n",
    "import matplotlib.pyplot as plt"
   ]
  },
  {
   "cell_type": "code",
   "execution_count": 12,
   "outputs": [
    {
     "data": {
      "text/plain": "     Age  RestBP  Chol  RestECG  MaxHR  Oldpeak  AHD\n0     63     145   233        2    150      2.3   No\n1     67     160   286        2    108      1.5  Yes\n2     67     120   229        2    129      2.6  Yes\n3     37     130   250        0    187      3.5   No\n4     41     130   204        2    172      1.4   No\n5     56     120   236        0    178      0.8   No\n6     62     140   268        2    160      3.6  Yes\n7     57     120   354        0    163      0.6   No\n8     63     130   254        2    147      1.4  Yes\n9     53     140   203        2    155      3.1  Yes\n10    57     140   192        0    148      0.4   No\n11    56     140   294        2    153      1.3   No\n12    56     130   256        2    142      0.6  Yes\n13    44     120   263        0    173      0.0   No\n14    52     172   199        0    162      0.5   No\n15    57     150   168        0    174      1.6   No\n16    48     110   229        0    168      1.0  Yes\n17    54     140   239        0    160      1.2   No\n18    48     130   275        0    139      0.2   No\n19    49     130   266        0    171      0.6   No\n20    64     110   211        2    144      1.8   No\n21    58     150   283        2    162      1.0   No\n22    58     120   284        2    160      1.8  Yes\n23    58     132   224        2    173      3.2  Yes\n24    60     130   206        2    132      2.4  Yes\n25    50     120   219        0    158      1.6   No\n26    58     120   340        0    172      0.0   No\n27    66     150   226        0    114      2.6   No\n28    43     150   247        0    171      1.5   No\n29    40     110   167        2    114      2.0  Yes\n..   ...     ...   ...      ...    ...      ...  ...\n251   71     112   149        0    125      1.6   No\n252   59     134   204        0    162      0.8  Yes\n253   64     170   227        2    155      0.6   No\n254   66     146   278        2    152      0.0   No\n255   39     138   220        0    152      0.0   No\n256   57     154   232        2    164      0.0  Yes\n257   58     130   197        0    131      0.6   No\n258   57     110   335        0    143      3.0  Yes\n259   47     130   253        0    179      0.0   No\n260   55     128   205        1    130      2.0  Yes\n261   35     122   192        0    174      0.0   No\n262   61     148   203        0    161      0.0  Yes\n263   58     114   318        1    140      4.4  Yes\n264   58     170   225        2    146      2.8  Yes\n265   58     125   220        0    144      0.4   No\n266   56     130   221        2    163      0.0   No\n267   56     120   240        0    169      0.0   No\n268   67     152   212        2    150      0.8  Yes\n269   55     132   342        0    166      1.2   No\n270   44     120   169        0    144      2.8  Yes\n271   63     140   187        2    144      4.0  Yes\n272   63     124   197        0    136      0.0  Yes\n273   41     120   157        0    182      0.0   No\n274   59     164   176        2     90      1.0  Yes\n275   57     140   241        0    123      0.2  Yes\n276   45     110   264        0    132      1.2  Yes\n277   68     144   193        0    141      3.4  Yes\n278   57     130   131        0    115      1.2  Yes\n279   57     130   236        2    174      0.0  Yes\n280   38     138   175        0    173      0.0   No\n\n[281 rows x 7 columns]",
      "text/html": "<div>\n<style scoped>\n    .dataframe tbody tr th:only-of-type {\n        vertical-align: middle;\n    }\n\n    .dataframe tbody tr th {\n        vertical-align: top;\n    }\n\n    .dataframe thead th {\n        text-align: right;\n    }\n</style>\n<table border=\"1\" class=\"dataframe\">\n  <thead>\n    <tr style=\"text-align: right;\">\n      <th></th>\n      <th>Age</th>\n      <th>RestBP</th>\n      <th>Chol</th>\n      <th>RestECG</th>\n      <th>MaxHR</th>\n      <th>Oldpeak</th>\n      <th>AHD</th>\n    </tr>\n  </thead>\n  <tbody>\n    <tr>\n      <th>0</th>\n      <td>63</td>\n      <td>145</td>\n      <td>233</td>\n      <td>2</td>\n      <td>150</td>\n      <td>2.3</td>\n      <td>No</td>\n    </tr>\n    <tr>\n      <th>1</th>\n      <td>67</td>\n      <td>160</td>\n      <td>286</td>\n      <td>2</td>\n      <td>108</td>\n      <td>1.5</td>\n      <td>Yes</td>\n    </tr>\n    <tr>\n      <th>2</th>\n      <td>67</td>\n      <td>120</td>\n      <td>229</td>\n      <td>2</td>\n      <td>129</td>\n      <td>2.6</td>\n      <td>Yes</td>\n    </tr>\n    <tr>\n      <th>3</th>\n      <td>37</td>\n      <td>130</td>\n      <td>250</td>\n      <td>0</td>\n      <td>187</td>\n      <td>3.5</td>\n      <td>No</td>\n    </tr>\n    <tr>\n      <th>4</th>\n      <td>41</td>\n      <td>130</td>\n      <td>204</td>\n      <td>2</td>\n      <td>172</td>\n      <td>1.4</td>\n      <td>No</td>\n    </tr>\n    <tr>\n      <th>5</th>\n      <td>56</td>\n      <td>120</td>\n      <td>236</td>\n      <td>0</td>\n      <td>178</td>\n      <td>0.8</td>\n      <td>No</td>\n    </tr>\n    <tr>\n      <th>6</th>\n      <td>62</td>\n      <td>140</td>\n      <td>268</td>\n      <td>2</td>\n      <td>160</td>\n      <td>3.6</td>\n      <td>Yes</td>\n    </tr>\n    <tr>\n      <th>7</th>\n      <td>57</td>\n      <td>120</td>\n      <td>354</td>\n      <td>0</td>\n      <td>163</td>\n      <td>0.6</td>\n      <td>No</td>\n    </tr>\n    <tr>\n      <th>8</th>\n      <td>63</td>\n      <td>130</td>\n      <td>254</td>\n      <td>2</td>\n      <td>147</td>\n      <td>1.4</td>\n      <td>Yes</td>\n    </tr>\n    <tr>\n      <th>9</th>\n      <td>53</td>\n      <td>140</td>\n      <td>203</td>\n      <td>2</td>\n      <td>155</td>\n      <td>3.1</td>\n      <td>Yes</td>\n    </tr>\n    <tr>\n      <th>10</th>\n      <td>57</td>\n      <td>140</td>\n      <td>192</td>\n      <td>0</td>\n      <td>148</td>\n      <td>0.4</td>\n      <td>No</td>\n    </tr>\n    <tr>\n      <th>11</th>\n      <td>56</td>\n      <td>140</td>\n      <td>294</td>\n      <td>2</td>\n      <td>153</td>\n      <td>1.3</td>\n      <td>No</td>\n    </tr>\n    <tr>\n      <th>12</th>\n      <td>56</td>\n      <td>130</td>\n      <td>256</td>\n      <td>2</td>\n      <td>142</td>\n      <td>0.6</td>\n      <td>Yes</td>\n    </tr>\n    <tr>\n      <th>13</th>\n      <td>44</td>\n      <td>120</td>\n      <td>263</td>\n      <td>0</td>\n      <td>173</td>\n      <td>0.0</td>\n      <td>No</td>\n    </tr>\n    <tr>\n      <th>14</th>\n      <td>52</td>\n      <td>172</td>\n      <td>199</td>\n      <td>0</td>\n      <td>162</td>\n      <td>0.5</td>\n      <td>No</td>\n    </tr>\n    <tr>\n      <th>15</th>\n      <td>57</td>\n      <td>150</td>\n      <td>168</td>\n      <td>0</td>\n      <td>174</td>\n      <td>1.6</td>\n      <td>No</td>\n    </tr>\n    <tr>\n      <th>16</th>\n      <td>48</td>\n      <td>110</td>\n      <td>229</td>\n      <td>0</td>\n      <td>168</td>\n      <td>1.0</td>\n      <td>Yes</td>\n    </tr>\n    <tr>\n      <th>17</th>\n      <td>54</td>\n      <td>140</td>\n      <td>239</td>\n      <td>0</td>\n      <td>160</td>\n      <td>1.2</td>\n      <td>No</td>\n    </tr>\n    <tr>\n      <th>18</th>\n      <td>48</td>\n      <td>130</td>\n      <td>275</td>\n      <td>0</td>\n      <td>139</td>\n      <td>0.2</td>\n      <td>No</td>\n    </tr>\n    <tr>\n      <th>19</th>\n      <td>49</td>\n      <td>130</td>\n      <td>266</td>\n      <td>0</td>\n      <td>171</td>\n      <td>0.6</td>\n      <td>No</td>\n    </tr>\n    <tr>\n      <th>20</th>\n      <td>64</td>\n      <td>110</td>\n      <td>211</td>\n      <td>2</td>\n      <td>144</td>\n      <td>1.8</td>\n      <td>No</td>\n    </tr>\n    <tr>\n      <th>21</th>\n      <td>58</td>\n      <td>150</td>\n      <td>283</td>\n      <td>2</td>\n      <td>162</td>\n      <td>1.0</td>\n      <td>No</td>\n    </tr>\n    <tr>\n      <th>22</th>\n      <td>58</td>\n      <td>120</td>\n      <td>284</td>\n      <td>2</td>\n      <td>160</td>\n      <td>1.8</td>\n      <td>Yes</td>\n    </tr>\n    <tr>\n      <th>23</th>\n      <td>58</td>\n      <td>132</td>\n      <td>224</td>\n      <td>2</td>\n      <td>173</td>\n      <td>3.2</td>\n      <td>Yes</td>\n    </tr>\n    <tr>\n      <th>24</th>\n      <td>60</td>\n      <td>130</td>\n      <td>206</td>\n      <td>2</td>\n      <td>132</td>\n      <td>2.4</td>\n      <td>Yes</td>\n    </tr>\n    <tr>\n      <th>25</th>\n      <td>50</td>\n      <td>120</td>\n      <td>219</td>\n      <td>0</td>\n      <td>158</td>\n      <td>1.6</td>\n      <td>No</td>\n    </tr>\n    <tr>\n      <th>26</th>\n      <td>58</td>\n      <td>120</td>\n      <td>340</td>\n      <td>0</td>\n      <td>172</td>\n      <td>0.0</td>\n      <td>No</td>\n    </tr>\n    <tr>\n      <th>27</th>\n      <td>66</td>\n      <td>150</td>\n      <td>226</td>\n      <td>0</td>\n      <td>114</td>\n      <td>2.6</td>\n      <td>No</td>\n    </tr>\n    <tr>\n      <th>28</th>\n      <td>43</td>\n      <td>150</td>\n      <td>247</td>\n      <td>0</td>\n      <td>171</td>\n      <td>1.5</td>\n      <td>No</td>\n    </tr>\n    <tr>\n      <th>29</th>\n      <td>40</td>\n      <td>110</td>\n      <td>167</td>\n      <td>2</td>\n      <td>114</td>\n      <td>2.0</td>\n      <td>Yes</td>\n    </tr>\n    <tr>\n      <th>...</th>\n      <td>...</td>\n      <td>...</td>\n      <td>...</td>\n      <td>...</td>\n      <td>...</td>\n      <td>...</td>\n      <td>...</td>\n    </tr>\n    <tr>\n      <th>251</th>\n      <td>71</td>\n      <td>112</td>\n      <td>149</td>\n      <td>0</td>\n      <td>125</td>\n      <td>1.6</td>\n      <td>No</td>\n    </tr>\n    <tr>\n      <th>252</th>\n      <td>59</td>\n      <td>134</td>\n      <td>204</td>\n      <td>0</td>\n      <td>162</td>\n      <td>0.8</td>\n      <td>Yes</td>\n    </tr>\n    <tr>\n      <th>253</th>\n      <td>64</td>\n      <td>170</td>\n      <td>227</td>\n      <td>2</td>\n      <td>155</td>\n      <td>0.6</td>\n      <td>No</td>\n    </tr>\n    <tr>\n      <th>254</th>\n      <td>66</td>\n      <td>146</td>\n      <td>278</td>\n      <td>2</td>\n      <td>152</td>\n      <td>0.0</td>\n      <td>No</td>\n    </tr>\n    <tr>\n      <th>255</th>\n      <td>39</td>\n      <td>138</td>\n      <td>220</td>\n      <td>0</td>\n      <td>152</td>\n      <td>0.0</td>\n      <td>No</td>\n    </tr>\n    <tr>\n      <th>256</th>\n      <td>57</td>\n      <td>154</td>\n      <td>232</td>\n      <td>2</td>\n      <td>164</td>\n      <td>0.0</td>\n      <td>Yes</td>\n    </tr>\n    <tr>\n      <th>257</th>\n      <td>58</td>\n      <td>130</td>\n      <td>197</td>\n      <td>0</td>\n      <td>131</td>\n      <td>0.6</td>\n      <td>No</td>\n    </tr>\n    <tr>\n      <th>258</th>\n      <td>57</td>\n      <td>110</td>\n      <td>335</td>\n      <td>0</td>\n      <td>143</td>\n      <td>3.0</td>\n      <td>Yes</td>\n    </tr>\n    <tr>\n      <th>259</th>\n      <td>47</td>\n      <td>130</td>\n      <td>253</td>\n      <td>0</td>\n      <td>179</td>\n      <td>0.0</td>\n      <td>No</td>\n    </tr>\n    <tr>\n      <th>260</th>\n      <td>55</td>\n      <td>128</td>\n      <td>205</td>\n      <td>1</td>\n      <td>130</td>\n      <td>2.0</td>\n      <td>Yes</td>\n    </tr>\n    <tr>\n      <th>261</th>\n      <td>35</td>\n      <td>122</td>\n      <td>192</td>\n      <td>0</td>\n      <td>174</td>\n      <td>0.0</td>\n      <td>No</td>\n    </tr>\n    <tr>\n      <th>262</th>\n      <td>61</td>\n      <td>148</td>\n      <td>203</td>\n      <td>0</td>\n      <td>161</td>\n      <td>0.0</td>\n      <td>Yes</td>\n    </tr>\n    <tr>\n      <th>263</th>\n      <td>58</td>\n      <td>114</td>\n      <td>318</td>\n      <td>1</td>\n      <td>140</td>\n      <td>4.4</td>\n      <td>Yes</td>\n    </tr>\n    <tr>\n      <th>264</th>\n      <td>58</td>\n      <td>170</td>\n      <td>225</td>\n      <td>2</td>\n      <td>146</td>\n      <td>2.8</td>\n      <td>Yes</td>\n    </tr>\n    <tr>\n      <th>265</th>\n      <td>58</td>\n      <td>125</td>\n      <td>220</td>\n      <td>0</td>\n      <td>144</td>\n      <td>0.4</td>\n      <td>No</td>\n    </tr>\n    <tr>\n      <th>266</th>\n      <td>56</td>\n      <td>130</td>\n      <td>221</td>\n      <td>2</td>\n      <td>163</td>\n      <td>0.0</td>\n      <td>No</td>\n    </tr>\n    <tr>\n      <th>267</th>\n      <td>56</td>\n      <td>120</td>\n      <td>240</td>\n      <td>0</td>\n      <td>169</td>\n      <td>0.0</td>\n      <td>No</td>\n    </tr>\n    <tr>\n      <th>268</th>\n      <td>67</td>\n      <td>152</td>\n      <td>212</td>\n      <td>2</td>\n      <td>150</td>\n      <td>0.8</td>\n      <td>Yes</td>\n    </tr>\n    <tr>\n      <th>269</th>\n      <td>55</td>\n      <td>132</td>\n      <td>342</td>\n      <td>0</td>\n      <td>166</td>\n      <td>1.2</td>\n      <td>No</td>\n    </tr>\n    <tr>\n      <th>270</th>\n      <td>44</td>\n      <td>120</td>\n      <td>169</td>\n      <td>0</td>\n      <td>144</td>\n      <td>2.8</td>\n      <td>Yes</td>\n    </tr>\n    <tr>\n      <th>271</th>\n      <td>63</td>\n      <td>140</td>\n      <td>187</td>\n      <td>2</td>\n      <td>144</td>\n      <td>4.0</td>\n      <td>Yes</td>\n    </tr>\n    <tr>\n      <th>272</th>\n      <td>63</td>\n      <td>124</td>\n      <td>197</td>\n      <td>0</td>\n      <td>136</td>\n      <td>0.0</td>\n      <td>Yes</td>\n    </tr>\n    <tr>\n      <th>273</th>\n      <td>41</td>\n      <td>120</td>\n      <td>157</td>\n      <td>0</td>\n      <td>182</td>\n      <td>0.0</td>\n      <td>No</td>\n    </tr>\n    <tr>\n      <th>274</th>\n      <td>59</td>\n      <td>164</td>\n      <td>176</td>\n      <td>2</td>\n      <td>90</td>\n      <td>1.0</td>\n      <td>Yes</td>\n    </tr>\n    <tr>\n      <th>275</th>\n      <td>57</td>\n      <td>140</td>\n      <td>241</td>\n      <td>0</td>\n      <td>123</td>\n      <td>0.2</td>\n      <td>Yes</td>\n    </tr>\n    <tr>\n      <th>276</th>\n      <td>45</td>\n      <td>110</td>\n      <td>264</td>\n      <td>0</td>\n      <td>132</td>\n      <td>1.2</td>\n      <td>Yes</td>\n    </tr>\n    <tr>\n      <th>277</th>\n      <td>68</td>\n      <td>144</td>\n      <td>193</td>\n      <td>0</td>\n      <td>141</td>\n      <td>3.4</td>\n      <td>Yes</td>\n    </tr>\n    <tr>\n      <th>278</th>\n      <td>57</td>\n      <td>130</td>\n      <td>131</td>\n      <td>0</td>\n      <td>115</td>\n      <td>1.2</td>\n      <td>Yes</td>\n    </tr>\n    <tr>\n      <th>279</th>\n      <td>57</td>\n      <td>130</td>\n      <td>236</td>\n      <td>2</td>\n      <td>174</td>\n      <td>0.0</td>\n      <td>Yes</td>\n    </tr>\n    <tr>\n      <th>280</th>\n      <td>38</td>\n      <td>138</td>\n      <td>175</td>\n      <td>0</td>\n      <td>173</td>\n      <td>0.0</td>\n      <td>No</td>\n    </tr>\n  </tbody>\n</table>\n<p>281 rows × 7 columns</p>\n</div>"
     },
     "metadata": {},
     "output_type": "execute_result",
     "execution_count": 12
    }
   ],
   "source": [
    "#a\n",
    "\n",
    "df = pd.read_csv(\"https://github.com/mpourhoma/CS4661/raw/master/Heart_short.csv\")\n",
    "df"
   ],
   "metadata": {
    "collapsed": false,
    "pycharm": {
     "name": "#%%\n",
     "is_executing": false
    }
   }
  },
  {
   "cell_type": "code",
   "execution_count": 13,
   "outputs": [
    {
     "name": "stdout",
     "text": [
      "   Age  RestBP  Chol  RestECG  MaxHR  Oldpeak\n0   63     145   233        2    150      2.3\n1   67     160   286        2    108      1.5\n2   67     120   229        2    129      2.6\n3   37     130   250        0    187      3.5\n4   41     130   204        2    172      1.4\n0     No\n1    Yes\n2    Yes\n3     No\n4     No\nName: AHD, dtype: object\n"
     ],
     "output_type": "stream"
    },
    {
     "name": "stderr",
     "text": [
      "/Users/george/Desktop/fall 2019/datascience/homework/venv/lib/python2.7/site-packages/ipykernel_launcher.py:10: DataConversionWarning: Data with input dtype int64, float64 were all converted to float64 by the scale function.\n  # Remove the CWD from sys.path while we load stuff.\n"
     ],
     "output_type": "stream"
    },
    {
     "data": {
      "text/plain": "array([[ 0.94788279,  0.74978425, -0.25859799,  1.04743633, -0.00919313,\n         1.13182982],\n       [ 1.38542704,  1.59842565,  0.75330422,  1.04743633, -1.84813139,\n         0.43550978],\n       [ 1.38542704, -0.6646181 , -0.33496796,  1.04743633, -0.92866226,\n         1.39294984],\n       ...,\n       [ 0.29156641, -0.09885716, -2.20603242, -0.96851989, -1.54164168,\n         0.17438976],\n       [ 0.29156641, -0.09885716, -0.2013205 ,  1.04743633,  1.04162873,\n        -0.8700903 ],\n       [-1.78676878,  0.35375159, -1.36596267, -0.96851989,  0.99784448,\n        -0.8700903 ]])"
     },
     "metadata": {},
     "output_type": "execute_result",
     "execution_count": 13
    }
   ],
   "source": [
    "#b\n",
    "\n",
    "feature_cols = ['Age','RestBP', 'Chol', 'RestECG', 'MaxHR','Oldpeak']\n",
    "X = df[feature_cols]\n",
    "\n",
    "y = df['AHD']\n",
    "\n",
    "print (X.head())\n",
    "print (y.head())\n",
    "preprocessing.scale(X)\n"
   ],
   "metadata": {
    "collapsed": false,
    "pycharm": {
     "name": "#%%\n",
     "is_executing": false
    }
   }
  },
  {
   "cell_type": "code",
   "execution_count": 14,
   "outputs": [
    {
     "name": "stdout",
     "text": [
      "(210, 6)\n(210,)\n(71, 6)\n(71,)\n"
     ],
     "output_type": "stream"
    }
   ],
   "source": [
    "#c\n",
    "X_train, X_test, y_train, y_test = train_test_split(X, y, test_size=0.25, random_state=3)\n",
    "print(X_train.shape)\n",
    "print(y_train.shape)\n",
    "\n",
    "print(X_test.shape)\n",
    "print(y_test.shape)\n",
    "\n"
   ],
   "metadata": {
    "collapsed": false,
    "pycharm": {
     "name": "#%%\n",
     "is_executing": false
    }
   }
  },
  {
   "cell_type": "code",
   "execution_count": 15,
   "outputs": [
    {
     "name": "stdout",
     "text": [
      "['Yes' 'No' 'Yes' 'Yes' 'No' 'No' 'No' 'No' 'Yes' 'No' 'Yes' 'No' 'Yes'\n 'Yes' 'No' 'No' 'Yes' 'No' 'Yes' 'Yes' 'No' 'No' 'Yes' 'No' 'Yes' 'No'\n 'No' 'Yes' 'No' 'No' 'Yes' 'Yes' 'Yes' 'No' 'No' 'Yes' 'Yes' 'No' 'Yes'\n 'No' 'No' 'Yes' 'No' 'No' 'Yes' 'Yes' 'No' 'No' 'Yes' 'No' 'No' 'Yes'\n 'No' 'Yes' 'No' 'No' 'No' 'No' 'No' 'No' 'Yes' 'No' 'No' 'No' 'No' 'No'\n 'No' 'No' 'No' 'No' 'No']\n"
     ],
     "output_type": "stream"
    }
   ],
   "source": [
    "#d\n",
    "my_logreg_heart_disease = LogisticRegression();\n",
    "\n",
    "my_logreg_heart_disease.fit(X_train, y_train)\n",
    "\n",
    "y_predict = my_logreg_heart_disease.predict(X_test)\n",
    "\n",
    "print (y_predict)"
   ],
   "metadata": {
    "collapsed": false,
    "pycharm": {
     "name": "#%%\n",
     "is_executing": false
    }
   }
  },
  {
   "cell_type": "code",
   "execution_count": 16,
   "outputs": [
    {
     "name": "stdout",
     "text": [
      "0.7183098591549296\n"
     ],
     "output_type": "stream"
    }
   ],
   "source": [
    "my_logreg_heart_disease_accuracy = accuracy_score(y_test, y_predict)\n",
    "\n",
    "print(my_logreg_heart_disease_accuracy)"
   ],
   "metadata": {
    "collapsed": false,
    "pycharm": {
     "name": "#%%\n",
     "is_executing": false
    }
   }
  },
  {
   "cell_type": "code",
   "execution_count": 17,
   "outputs": [
    {
     "name": "stdout",
     "text": [
      "253     No\n74     Yes\n230     No\n38     Yes\n16     Yes\n66      No\n31     Yes\n123    Yes\n177    Yes\n175     No\n155    Yes\n259     No\n50      No\n82     Yes\n25      No\n73     Yes\n264    Yes\n162    Yes\n214    Yes\n270    Yes\n84     Yes\n157     No\n196     No\n46      No\n229    Yes\n193     No\n64      No\n65      No\n108     No\n252    Yes\n      ... \n58      No\n14      No\n266     No\n161     No\n225    Yes\n83      No\n205     No\n23     Yes\n43      No\n67      No\n24     Yes\n200     No\n61     Yes\n198     No\n247     No\n5       No\n136    Yes\n154     No\n145     No\n235     No\n208     No\n40      No\n102    Yes\n146    Yes\n168     No\n15      No\n78      No\n109     No\n122     No\n142     No\nName: AHD, Length: 71, dtype: object\n['Yes' 'No' 'Yes' 'Yes' 'No' 'No' 'No' 'No' 'Yes' 'No' 'Yes' 'No' 'Yes'\n 'Yes' 'No' 'No' 'Yes' 'No' 'Yes' 'Yes' 'No' 'No' 'Yes' 'No' 'Yes' 'No'\n 'No' 'Yes' 'No' 'No' 'Yes' 'Yes' 'Yes' 'No' 'No' 'Yes' 'Yes' 'No' 'Yes'\n 'No' 'No' 'Yes' 'No' 'No' 'Yes' 'Yes' 'No' 'No' 'Yes' 'No' 'No' 'Yes'\n 'No' 'Yes' 'No' 'No' 'No' 'No' 'No' 'No' 'Yes' 'No' 'No' 'No' 'No' 'No'\n 'No' 'No' 'No' 'No' 'No']\n[[0.45551036 0.54448964]\n [0.57378484 0.42621516]\n [0.41900442 0.58099558]\n [0.39936239 0.60063761]\n [0.85816519 0.14183481]\n [0.77196984 0.22803016]\n [0.73676454 0.26323546]\n [0.88371314 0.11628686]\n [0.34726886 0.65273114]\n [0.68541689 0.31458311]\n [0.10560825 0.89439175]\n [0.92042897 0.07957103]\n [0.31726513 0.68273487]\n [0.45758546 0.54241454]\n [0.6808224  0.3191776 ]\n [0.86382327 0.13617673]\n [0.09943237 0.90056763]\n [0.65413975 0.34586025]\n [0.12296867 0.87703133]\n [0.36023474 0.63976526]\n [0.85150707 0.14849293]\n [0.86411259 0.13588741]\n [0.22333864 0.77666136]\n [0.94052694 0.05947306]\n [0.11264413 0.88735587]\n [0.57923152 0.42076848]\n [0.7378749  0.2621251 ]\n [0.47195427 0.52804573]\n [0.69539326 0.30460674]\n [0.77104229 0.22895771]\n [0.31696115 0.68303885]\n [0.12763323 0.87236677]\n [0.15458572 0.84541428]\n [0.88568182 0.11431818]\n [0.8148781  0.1851219 ]\n [0.01094467 0.98905533]\n [0.07175325 0.92824675]\n [0.74397255 0.25602745]\n [0.20943186 0.79056814]\n [0.50554301 0.49445699]\n [0.73354546 0.26645454]\n [0.33661914 0.66338086]\n [0.63579418 0.36420582]\n [0.82354734 0.17645266]\n [0.02642292 0.97357708]\n [0.38527734 0.61472266]\n [0.88475707 0.11524293]\n [0.83456711 0.16543289]\n [0.34385469 0.65614531]\n [0.64804208 0.35195792]\n [0.64258728 0.35741272]\n [0.19712981 0.80287019]\n [0.96813447 0.03186553]\n [0.18752849 0.81247151]\n [0.90073439 0.09926561]\n [0.82622791 0.17377209]\n [0.88662803 0.11337197]\n [0.6168973  0.3831027 ]\n [0.85680237 0.14319763]\n [0.77215711 0.22784289]\n [0.26999245 0.73000755]\n [0.82989995 0.17010005]\n [0.76760337 0.23239663]\n [0.62948172 0.37051828]\n [0.78204088 0.21795912]\n [0.88196713 0.11803287]\n [0.6705611  0.3294389 ]\n [0.93158213 0.06841787]\n [0.92140224 0.07859776]\n [0.78740807 0.21259193]\n [0.92010855 0.07989145]]\n[0.54448964 0.42621516 0.58099558 0.60063761 0.14183481 0.22803016\n 0.26323546 0.11628686 0.65273114 0.31458311 0.89439175 0.07957103\n 0.68273487 0.54241454 0.3191776  0.13617673 0.90056763 0.34586025\n 0.87703133 0.63976526 0.14849293 0.13588741 0.77666136 0.05947306\n 0.88735587 0.42076848 0.2621251  0.52804573 0.30460674 0.22895771\n 0.68303885 0.87236677 0.84541428 0.11431818 0.1851219  0.98905533\n 0.92824675 0.25602745 0.79056814 0.49445699 0.26645454 0.66338086\n 0.36420582 0.17645266 0.97357708 0.61472266 0.11524293 0.16543289\n 0.65614531 0.35195792 0.35741272 0.80287019 0.03186553 0.81247151\n 0.09926561 0.17377209 0.11337197 0.3831027  0.14319763 0.22784289\n 0.73000755 0.17010005 0.23239663 0.37051828 0.21795912 0.11803287\n 0.3294389  0.06841787 0.07859776 0.21259193 0.07989145]\n"
     ],
     "output_type": "stream"
    }
   ],
   "source": [
    "y_predict_logreg_heart_disease = my_logreg_heart_disease.predict(X_test)\n",
    "\n",
    "y_predict_proba_logreg_heart_disease = my_logreg_heart_disease.predict_proba(X_test)\n",
    "\n",
    "print(y_test)\n",
    "\n",
    "print(y_predict_logreg_heart_disease)\n",
    "\n",
    "print(y_predict_proba_logreg_heart_disease)\n",
    "\n",
    "print(y_predict_proba_logreg_heart_disease[:,1])"
   ],
   "metadata": {
    "collapsed": false,
    "pycharm": {
     "name": "#%%\n",
     "is_executing": false
    }
   }
  },
  {
   "cell_type": "code",
   "execution_count": 18,
   "outputs": [
    {
     "name": "stdout",
     "text": [
      "[0.         0.         0.02439024 0.02439024 0.07317073 0.07317073\n 0.12195122 0.12195122 0.17073171 0.17073171 0.2195122  0.2195122\n 0.24390244 0.24390244 0.31707317 0.31707317 0.41463415 0.41463415\n 0.48780488 0.48780488 0.53658537 0.53658537 0.68292683 0.68292683\n 0.70731707 0.70731707 0.75609756 0.75609756 1.        ]\n[0.         0.03333333 0.03333333 0.36666667 0.36666667 0.4\n 0.4        0.56666667 0.56666667 0.6        0.6        0.63333333\n 0.63333333 0.7        0.7        0.73333333 0.73333333 0.8\n 0.8        0.83333333 0.83333333 0.86666667 0.86666667 0.9\n 0.9        0.96666667 0.96666667 1.         1.        ]\n"
     ],
     "output_type": "stream"
    }
   ],
   "source": [
    "fpr, tpr, thresholds = metrics.roc_curve(y_test, y_predict_proba_logreg_heart_disease[:,1], pos_label=\"Yes\")\n",
    "\n",
    "print(fpr)\n",
    "print(tpr)"
   ],
   "metadata": {
    "collapsed": false,
    "pycharm": {
     "name": "#%%\n",
     "is_executing": false
    }
   }
  },
  {
   "cell_type": "code",
   "execution_count": 19,
   "outputs": [
    {
     "name": "stdout",
     "text": [
      "0.7723577235772358\n"
     ],
     "output_type": "stream"
    }
   ],
   "source": [
    "AUC = metrics.auc(fpr, tpr)\n",
    "print(AUC)\n"
   ],
   "metadata": {
    "collapsed": false,
    "pycharm": {
     "name": "#%%\n",
     "is_executing": false
    }
   }
  },
  {
   "cell_type": "code",
   "execution_count": 20,
   "outputs": [
    {
     "data": {
      "image/png": "[encoded data removed]",
      "text/plain": "<Figure size 432x288 with 1 Axes>"
     },
     "metadata": {
      "needs_background": "light"
     },
     "output_type": "display_data"
    }
   ],
   "source": [
    "plt.figure()\n",
    "\n",
    "plt.plot(fpr, tpr, color='red', lw=2, label='ROC Curve (area = %0.2f)' % AUC)\n",
    "\n",
    "plt.plot([0, 1], [0, 1], color='blue', lw=1, linestyle='--')\n",
    "\n",
    "plt.xlim([-0.005, 1.005])\n",
    "plt.ylim([0.0, 1.01])\n",
    "\n",
    "plt.xlabel('False Positive Rate')\n",
    "plt.ylabel('True Positive Rate')\n",
    "plt.title('Receiver operating characteristic')\n",
    "plt.legend(loc=\"lower right\")\n",
    "\n",
    "plt.show()\n",
    "\n"
   ],
   "metadata": {
    "collapsed": false,
    "pycharm": {
     "name": "#%%\n",
     "is_executing": false
    }
   }
  }
 ],
 "metadata": {
  "kernelspec": {
   "display_name": "Python 2",
   "language": "python",
   "name": "python2"
  },
  "language_info": {
   "codemirror_mode": {
    "name": "ipython",
    "version": 2
   },
   "file_extension": ".py",
   "mimetype": "text/x-python",
   "name": "python",
   "nbconvert_exporter": "python",
   "pygments_lexer": "ipython2",
   "version": "2.7.6"
  },
  "pycharm": {
   "stem_cell": {
    "cell_type": "raw",
    "source": [],
    "metadata": {
     "collapsed": false
    }
   }
  }
 },
 "nbformat": 4,
 "nbformat_minor": 0
}