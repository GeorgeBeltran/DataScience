{
 "cells": [
  {
   "cell_type": "code",
   "execution_count": 5,
   "outputs": [
    {
     "data": {
      "text/plain": "      Income  Limit  Rating  Cards  Age  Education  Married  Balance\n0     14.891   3606     283      2   34         11        1      333\n10    63.095   8117     589      4   30         14        1     1407\n20    17.700   2860     235      4   63         16        0       89\n30    34.142   5666     413      4   47          5        1      863\n40    34.950   3327     253      3   54         14        0       50\n50    36.362   5183     376      3   49         15        1      654\n60    35.510   5198     364      2   35         20        0      631\n70    24.889   3954     318      4   75         12        1      357\n80    27.369   3449     288      3   40          9        1      162\n90    20.191   5767     431      4   42         16        1     1023\n100   21.153   3736     256      1   41         11        0      298\n110   34.537   3271     250      3   57         17        1       47\n120   27.241   1402     128      2   67         15        1        0\n130   23.793   3821     281      4   56         12        1      868\n140   39.831   6045     459      3   32         12        1     1425\n150   63.931   5728     435      3   28         14        1      581\n160   12.238   4865     381      5   67         11        0      836\n170   34.772   2021     167      3   57          9        0        0\n180   10.635   3584     294      5   69         16        1      423\n190   55.187   5352     385      4   50         17        1      538\n200   23.949   5343     383      2   40         18        1      829\n210   24.543   3206     243      2   62         12        1       95\n220   44.847   5765     437      3   53         13        0     1246\n230   33.214   5137     387      3   59          9        0      661\n240   29.705   3351     262      5   71         14        1      148\n250   10.363   2430     191      2   47         18        1        0\n260   67.937   5184     383      4   63         12        1      345\n270   15.866   3085     217      1   39         13        0      136\n280   53.401   5319     377      3   35         12        0      541\n290   26.370   3235     268      5   78         11        1      159\n300   21.786   4632     355      1   50         17        1      580\n310   33.694   4891     369      1   52         16        0     1036\n320   16.279   1160     126      3   78         13        1        5\n330   20.405   4543     329      2   72         17        0     1054\n340   27.794   3807     301      4   35          8        1      320\n350   30.002   1561     155      4   70         13        1        0\n360   53.566   5891     434      4   82         10        0      712\n370   35.610   6135     466      4   40         12        0      992\n380  115.123   7760     538      3   83         14        0      661\n390  135.118  10578     747      3   81         15        1     1393",
      "text/html": "<div>\n<style scoped>\n    .dataframe tbody tr th:only-of-type {\n        vertical-align: middle;\n    }\n\n    .dataframe tbody tr th {\n        vertical-align: top;\n    }\n\n    .dataframe thead th {\n        text-align: right;\n    }\n</style>\n<table border=\"1\" class=\"dataframe\">\n  <thead>\n    <tr style=\"text-align: right;\">\n      <th></th>\n      <th>Income</th>\n      <th>Limit</th>\n      <th>Rating</th>\n      <th>Cards</th>\n      <th>Age</th>\n      <th>Education</th>\n      <th>Married</th>\n      <th>Balance</th>\n    </tr>\n  </thead>\n  <tbody>\n    <tr>\n      <th>0</th>\n      <td>14.891</td>\n      <td>3606</td>\n      <td>283</td>\n      <td>2</td>\n      <td>34</td>\n      <td>11</td>\n      <td>1</td>\n      <td>333</td>\n    </tr>\n    <tr>\n      <th>10</th>\n      <td>63.095</td>\n      <td>8117</td>\n      <td>589</td>\n      <td>4</td>\n      <td>30</td>\n      <td>14</td>\n      <td>1</td>\n      <td>1407</td>\n    </tr>\n    <tr>\n      <th>20</th>\n      <td>17.700</td>\n      <td>2860</td>\n      <td>235</td>\n      <td>4</td>\n      <td>63</td>\n      <td>16</td>\n      <td>0</td>\n      <td>89</td>\n    </tr>\n    <tr>\n      <th>30</th>\n      <td>34.142</td>\n      <td>5666</td>\n      <td>413</td>\n      <td>4</td>\n      <td>47</td>\n      <td>5</td>\n      <td>1</td>\n      <td>863</td>\n    </tr>\n    <tr>\n      <th>40</th>\n      <td>34.950</td>\n      <td>3327</td>\n      <td>253</td>\n      <td>3</td>\n      <td>54</td>\n      <td>14</td>\n      <td>0</td>\n      <td>50</td>\n    </tr>\n    <tr>\n      <th>50</th>\n      <td>36.362</td>\n      <td>5183</td>\n      <td>376</td>\n      <td>3</td>\n      <td>49</td>\n      <td>15</td>\n      <td>1</td>\n      <td>654</td>\n    </tr>\n    <tr>\n      <th>60</th>\n      <td>35.510</td>\n      <td>5198</td>\n      <td>364</td>\n      <td>2</td>\n      <td>35</td>\n      <td>20</td>\n      <td>0</td>\n      <td>631</td>\n    </tr>\n    <tr>\n      <th>70</th>\n      <td>24.889</td>\n      <td>3954</td>\n      <td>318</td>\n      <td>4</td>\n      <td>75</td>\n      <td>12</td>\n      <td>1</td>\n      <td>357</td>\n    </tr>\n    <tr>\n      <th>80</th>\n      <td>27.369</td>\n      <td>3449</td>\n      <td>288</td>\n      <td>3</td>\n      <td>40</td>\n      <td>9</td>\n      <td>1</td>\n      <td>162</td>\n    </tr>\n    <tr>\n      <th>90</th>\n      <td>20.191</td>\n      <td>5767</td>\n      <td>431</td>\n      <td>4</td>\n      <td>42</td>\n      <td>16</td>\n      <td>1</td>\n      <td>1023</td>\n    </tr>\n    <tr>\n      <th>100</th>\n      <td>21.153</td>\n      <td>3736</td>\n      <td>256</td>\n      <td>1</td>\n      <td>41</td>\n      <td>11</td>\n      <td>0</td>\n      <td>298</td>\n    </tr>\n    <tr>\n      <th>110</th>\n      <td>34.537</td>\n      <td>3271</td>\n      <td>250</td>\n      <td>3</td>\n      <td>57</td>\n      <td>17</td>\n      <td>1</td>\n      <td>47</td>\n    </tr>\n    <tr>\n      <th>120</th>\n      <td>27.241</td>\n      <td>1402</td>\n      <td>128</td>\n      <td>2</td>\n      <td>67</td>\n      <td>15</td>\n      <td>1</td>\n      <td>0</td>\n    </tr>\n    <tr>\n      <th>130</th>\n      <td>23.793</td>\n      <td>3821</td>\n      <td>281</td>\n      <td>4</td>\n      <td>56</td>\n      <td>12</td>\n      <td>1</td>\n      <td>868</td>\n    </tr>\n    <tr>\n      <th>140</th>\n      <td>39.831</td>\n      <td>6045</td>\n      <td>459</td>\n      <td>3</td>\n      <td>32</td>\n      <td>12</td>\n      <td>1</td>\n      <td>1425</td>\n    </tr>\n    <tr>\n      <th>150</th>\n      <td>63.931</td>\n      <td>5728</td>\n      <td>435</td>\n      <td>3</td>\n      <td>28</td>\n      <td>14</td>\n      <td>1</td>\n      <td>581</td>\n    </tr>\n    <tr>\n      <th>160</th>\n      <td>12.238</td>\n      <td>4865</td>\n      <td>381</td>\n      <td>5</td>\n      <td>67</td>\n      <td>11</td>\n      <td>0</td>\n      <td>836</td>\n    </tr>\n    <tr>\n      <th>170</th>\n      <td>34.772</td>\n      <td>2021</td>\n      <td>167</td>\n      <td>3</td>\n      <td>57</td>\n      <td>9</td>\n      <td>0</td>\n      <td>0</td>\n    </tr>\n    <tr>\n      <th>180</th>\n      <td>10.635</td>\n      <td>3584</td>\n      <td>294</td>\n      <td>5</td>\n      <td>69</td>\n      <td>16</td>\n      <td>1</td>\n      <td>423</td>\n    </tr>\n    <tr>\n      <th>190</th>\n      <td>55.187</td>\n      <td>5352</td>\n      <td>385</td>\n      <td>4</td>\n      <td>50</td>\n      <td>17</td>\n      <td>1</td>\n      <td>538</td>\n    </tr>\n    <tr>\n      <th>200</th>\n      <td>23.949</td>\n      <td>5343</td>\n      <td>383</td>\n      <td>2</td>\n      <td>40</td>\n      <td>18</td>\n      <td>1</td>\n      <td>829</td>\n    </tr>\n    <tr>\n      <th>210</th>\n      <td>24.543</td>\n      <td>3206</td>\n      <td>243</td>\n      <td>2</td>\n      <td>62</td>\n      <td>12</td>\n      <td>1</td>\n      <td>95</td>\n    </tr>\n    <tr>\n      <th>220</th>\n      <td>44.847</td>\n      <td>5765</td>\n      <td>437</td>\n      <td>3</td>\n      <td>53</td>\n      <td>13</td>\n      <td>0</td>\n      <td>1246</td>\n    </tr>\n    <tr>\n      <th>230</th>\n      <td>33.214</td>\n      <td>5137</td>\n      <td>387</td>\n      <td>3</td>\n      <td>59</td>\n      <td>9</td>\n      <td>0</td>\n      <td>661</td>\n    </tr>\n    <tr>\n      <th>240</th>\n      <td>29.705</td>\n      <td>3351</td>\n      <td>262</td>\n      <td>5</td>\n      <td>71</td>\n      <td>14</td>\n      <td>1</td>\n      <td>148</td>\n    </tr>\n    <tr>\n      <th>250</th>\n      <td>10.363</td>\n      <td>2430</td>\n      <td>191</td>\n      <td>2</td>\n      <td>47</td>\n      <td>18</td>\n      <td>1</td>\n      <td>0</td>\n    </tr>\n    <tr>\n      <th>260</th>\n      <td>67.937</td>\n      <td>5184</td>\n      <td>383</td>\n      <td>4</td>\n      <td>63</td>\n      <td>12</td>\n      <td>1</td>\n      <td>345</td>\n    </tr>\n    <tr>\n      <th>270</th>\n      <td>15.866</td>\n      <td>3085</td>\n      <td>217</td>\n      <td>1</td>\n      <td>39</td>\n      <td>13</td>\n      <td>0</td>\n      <td>136</td>\n    </tr>\n    <tr>\n      <th>280</th>\n      <td>53.401</td>\n      <td>5319</td>\n      <td>377</td>\n      <td>3</td>\n      <td>35</td>\n      <td>12</td>\n      <td>0</td>\n      <td>541</td>\n    </tr>\n    <tr>\n      <th>290</th>\n      <td>26.370</td>\n      <td>3235</td>\n      <td>268</td>\n      <td>5</td>\n      <td>78</td>\n      <td>11</td>\n      <td>1</td>\n      <td>159</td>\n    </tr>\n    <tr>\n      <th>300</th>\n      <td>21.786</td>\n      <td>4632</td>\n      <td>355</td>\n      <td>1</td>\n      <td>50</td>\n      <td>17</td>\n      <td>1</td>\n      <td>580</td>\n    </tr>\n    <tr>\n      <th>310</th>\n      <td>33.694</td>\n      <td>4891</td>\n      <td>369</td>\n      <td>1</td>\n      <td>52</td>\n      <td>16</td>\n      <td>0</td>\n      <td>1036</td>\n    </tr>\n    <tr>\n      <th>320</th>\n      <td>16.279</td>\n      <td>1160</td>\n      <td>126</td>\n      <td>3</td>\n      <td>78</td>\n      <td>13</td>\n      <td>1</td>\n      <td>5</td>\n    </tr>\n    <tr>\n      <th>330</th>\n      <td>20.405</td>\n      <td>4543</td>\n      <td>329</td>\n      <td>2</td>\n      <td>72</td>\n      <td>17</td>\n      <td>0</td>\n      <td>1054</td>\n    </tr>\n    <tr>\n      <th>340</th>\n      <td>27.794</td>\n      <td>3807</td>\n      <td>301</td>\n      <td>4</td>\n      <td>35</td>\n      <td>8</td>\n      <td>1</td>\n      <td>320</td>\n    </tr>\n    <tr>\n      <th>350</th>\n      <td>30.002</td>\n      <td>1561</td>\n      <td>155</td>\n      <td>4</td>\n      <td>70</td>\n      <td>13</td>\n      <td>1</td>\n      <td>0</td>\n    </tr>\n    <tr>\n      <th>360</th>\n      <td>53.566</td>\n      <td>5891</td>\n      <td>434</td>\n      <td>4</td>\n      <td>82</td>\n      <td>10</td>\n      <td>0</td>\n      <td>712</td>\n    </tr>\n    <tr>\n      <th>370</th>\n      <td>35.610</td>\n      <td>6135</td>\n      <td>466</td>\n      <td>4</td>\n      <td>40</td>\n      <td>12</td>\n      <td>0</td>\n      <td>992</td>\n    </tr>\n    <tr>\n      <th>380</th>\n      <td>115.123</td>\n      <td>7760</td>\n      <td>538</td>\n      <td>3</td>\n      <td>83</td>\n      <td>14</td>\n      <td>0</td>\n      <td>661</td>\n    </tr>\n    <tr>\n      <th>390</th>\n      <td>135.118</td>\n      <td>10578</td>\n      <td>747</td>\n      <td>3</td>\n      <td>81</td>\n      <td>15</td>\n      <td>1</td>\n      <td>1393</td>\n    </tr>\n  </tbody>\n</table>\n</div>"
     },
     "metadata": {},
     "output_type": "execute_result",
     "execution_count": 5
    }
   ],
   "source": [
    "#a\n",
    "import pandas as pd\n",
    "from sklearn import preprocessing\n",
    "from sklearn.model_selection import train_test_split\n",
    "from sklearn.linear_model import LinearRegression\n",
    "from sklearn import metrics\n",
    "import numpy as np\n",
    "\n",
    "\n",
    "df = pd.read_csv(\"https://github.com/mpourhoma/CS4661/raw/master/Credit.csv\")\n",
    "df[::10]"
   ],
   "metadata": {
    "collapsed": false,
    "pycharm": {
     "name": "#%%\n",
     "is_executing": false
    }
   }
  },
  {
   "cell_type": "code",
   "execution_count": 6,
   "outputs": [
    {
     "name": "stdout",
     "text": [
      "(400, 7)\n"
     ],
     "output_type": "stream"
    },
    {
     "data": {
      "text/plain": "      Income  Limit  Rating  Cards  Age  Education  Married\n0     14.891   3606     283      2   34         11        1\n1    106.025   6645     483      3   82         15        1\n2    104.593   7075     514      4   71         11        0\n3    148.924   9504     681      3   36         11        0\n4     55.882   4897     357      2   68         16        1\n5     80.180   8047     569      4   77         10        0\n6     20.996   3388     259      2   37         12        0\n7     71.408   7114     512      2   87          9        0\n8     15.125   3300     266      5   66         13        0\n9     71.061   6819     491      3   41         19        1\n10    63.095   8117     589      4   30         14        1\n11    15.045   1311     138      3   64         16        0\n12    80.616   5308     394      1   57          7        1\n13    43.682   6922     511      1   49          9        1\n14    19.144   3291     269      2   75         13        0\n15    20.089   2525     200      3   57         15        1\n16    53.598   3714     286      3   73         17        1\n17    36.496   4378     339      3   69         15        1\n18    49.570   6384     448      1   28          9        1\n19    42.079   6626     479      2   44          9        0\n20    17.700   2860     235      4   63         16        0\n21    37.348   6378     458      1   72         17        0\n22    20.103   2631     213      3   61         10        1\n23    64.027   5179     398      5   48          8        1\n24    10.742   1757     156      3   57         15        0\n25    14.090   4323     326      5   25         16        1\n26    42.471   3625     289      6   44         12        0\n27    32.793   4534     333      2   44         16        0\n28   186.634  13414     949      2   41         14        1\n29    26.813   5611     411      4   55         16        0\n..       ...    ...     ...    ...  ...        ...      ...\n370   35.610   6135     466      4   40         12        0\n371   39.116   2150     173      4   75         15        0\n372   19.782   3782     293      2   46         16        0\n373   55.412   5354     383      2   37         16        1\n374   29.400   4840     368      3   76         18        1\n375   20.974   5673     413      5   44         16        1\n376   87.625   7167     515      2   46         10        0\n377   28.144   1567     142      3   51         10        1\n378   19.349   4941     366      1   33         19        1\n379   53.308   2860     214      1   84         10        1\n380  115.123   7760     538      3   83         14        0\n381  101.788   8029     574      2   84         11        1\n382   24.824   5495     409      1   33          9        0\n383   14.292   3274     282      9   64          9        1\n384   20.088   1870     180      3   76         16        0\n385   26.400   5640     398      3   58         15        0\n386   19.253   3683     287      4   57         10        0\n387   16.529   1357     126      3   62          9        0\n388   37.878   6827     482      2   80         13        0\n389   83.948   7100     503      2   44         18        0\n390  135.118  10578     747      3   81         15        1\n391   73.327   6555     472      2   43         15        0\n392   25.974   2308     196      2   24         10        0\n393   17.316   1335     138      2   65         13        0\n394   49.794   5758     410      4   40          8        0\n395   12.096   4100     307      3   32         13        1\n396   13.364   3838     296      5   65         17        0\n397   57.872   4171     321      5   67         12        1\n398   37.728   2525     192      1   44         13        1\n399   18.701   5524     415      5   64          7        0\n\n[400 rows x 7 columns]",
      "text/html": "<div>\n<style scoped>\n    .dataframe tbody tr th:only-of-type {\n        vertical-align: middle;\n    }\n\n    .dataframe tbody tr th {\n        vertical-align: top;\n    }\n\n    .dataframe thead th {\n        text-align: right;\n    }\n</style>\n<table border=\"1\" class=\"dataframe\">\n  <thead>\n    <tr style=\"text-align: right;\">\n      <th></th>\n      <th>Income</th>\n      <th>Limit</th>\n      <th>Rating</th>\n      <th>Cards</th>\n      <th>Age</th>\n      <th>Education</th>\n      <th>Married</th>\n    </tr>\n  </thead>\n  <tbody>\n    <tr>\n      <th>0</th>\n      <td>14.891</td>\n      <td>3606</td>\n      <td>283</td>\n      <td>2</td>\n      <td>34</td>\n      <td>11</td>\n      <td>1</td>\n    </tr>\n    <tr>\n      <th>1</th>\n      <td>106.025</td>\n      <td>6645</td>\n      <td>483</td>\n      <td>3</td>\n      <td>82</td>\n      <td>15</td>\n      <td>1</td>\n    </tr>\n    <tr>\n      <th>2</th>\n      <td>104.593</td>\n      <td>7075</td>\n      <td>514</td>\n      <td>4</td>\n      <td>71</td>\n      <td>11</td>\n      <td>0</td>\n    </tr>\n    <tr>\n      <th>3</th>\n      <td>148.924</td>\n      <td>9504</td>\n      <td>681</td>\n      <td>3</td>\n      <td>36</td>\n      <td>11</td>\n      <td>0</td>\n    </tr>\n    <tr>\n      <th>4</th>\n      <td>55.882</td>\n      <td>4897</td>\n      <td>357</td>\n      <td>2</td>\n      <td>68</td>\n      <td>16</td>\n      <td>1</td>\n    </tr>\n    <tr>\n      <th>5</th>\n      <td>80.180</td>\n      <td>8047</td>\n      <td>569</td>\n      <td>4</td>\n      <td>77</td>\n      <td>10</td>\n      <td>0</td>\n    </tr>\n    <tr>\n      <th>6</th>\n      <td>20.996</td>\n      <td>3388</td>\n      <td>259</td>\n      <td>2</td>\n      <td>37</td>\n      <td>12</td>\n      <td>0</td>\n    </tr>\n    <tr>\n      <th>7</th>\n      <td>71.408</td>\n      <td>7114</td>\n      <td>512</td>\n      <td>2</td>\n      <td>87</td>\n      <td>9</td>\n      <td>0</td>\n    </tr>\n    <tr>\n      <th>8</th>\n      <td>15.125</td>\n      <td>3300</td>\n      <td>266</td>\n      <td>5</td>\n      <td>66</td>\n      <td>13</td>\n      <td>0</td>\n    </tr>\n    <tr>\n      <th>9</th>\n      <td>71.061</td>\n      <td>6819</td>\n      <td>491</td>\n      <td>3</td>\n      <td>41</td>\n      <td>19</td>\n      <td>1</td>\n    </tr>\n    <tr>\n      <th>10</th>\n      <td>63.095</td>\n      <td>8117</td>\n      <td>589</td>\n      <td>4</td>\n      <td>30</td>\n      <td>14</td>\n      <td>1</td>\n    </tr>\n    <tr>\n      <th>11</th>\n      <td>15.045</td>\n      <td>1311</td>\n      <td>138</td>\n      <td>3</td>\n      <td>64</td>\n      <td>16</td>\n      <td>0</td>\n    </tr>\n    <tr>\n      <th>12</th>\n      <td>80.616</td>\n      <td>5308</td>\n      <td>394</td>\n      <td>1</td>\n      <td>57</td>\n      <td>7</td>\n      <td>1</td>\n    </tr>\n    <tr>\n      <th>13</th>\n      <td>43.682</td>\n      <td>6922</td>\n      <td>511</td>\n      <td>1</td>\n      <td>49</td>\n      <td>9</td>\n      <td>1</td>\n    </tr>\n    <tr>\n      <th>14</th>\n      <td>19.144</td>\n      <td>3291</td>\n      <td>269</td>\n      <td>2</td>\n      <td>75</td>\n      <td>13</td>\n      <td>0</td>\n    </tr>\n    <tr>\n      <th>15</th>\n      <td>20.089</td>\n      <td>2525</td>\n      <td>200</td>\n      <td>3</td>\n      <td>57</td>\n      <td>15</td>\n      <td>1</td>\n    </tr>\n    <tr>\n      <th>16</th>\n      <td>53.598</td>\n      <td>3714</td>\n      <td>286</td>\n      <td>3</td>\n      <td>73</td>\n      <td>17</td>\n      <td>1</td>\n    </tr>\n    <tr>\n      <th>17</th>\n      <td>36.496</td>\n      <td>4378</td>\n      <td>339</td>\n      <td>3</td>\n      <td>69</td>\n      <td>15</td>\n      <td>1</td>\n    </tr>\n    <tr>\n      <th>18</th>\n      <td>49.570</td>\n      <td>6384</td>\n      <td>448</td>\n      <td>1</td>\n      <td>28</td>\n      <td>9</td>\n      <td>1</td>\n    </tr>\n    <tr>\n      <th>19</th>\n      <td>42.079</td>\n      <td>6626</td>\n      <td>479</td>\n      <td>2</td>\n      <td>44</td>\n      <td>9</td>\n      <td>0</td>\n    </tr>\n    <tr>\n      <th>20</th>\n      <td>17.700</td>\n      <td>2860</td>\n      <td>235</td>\n      <td>4</td>\n      <td>63</td>\n      <td>16</td>\n      <td>0</td>\n    </tr>\n    <tr>\n      <th>21</th>\n      <td>37.348</td>\n      <td>6378</td>\n      <td>458</td>\n      <td>1</td>\n      <td>72</td>\n      <td>17</td>\n      <td>0</td>\n    </tr>\n    <tr>\n      <th>22</th>\n      <td>20.103</td>\n      <td>2631</td>\n      <td>213</td>\n      <td>3</td>\n      <td>61</td>\n      <td>10</td>\n      <td>1</td>\n    </tr>\n    <tr>\n      <th>23</th>\n      <td>64.027</td>\n      <td>5179</td>\n      <td>398</td>\n      <td>5</td>\n      <td>48</td>\n      <td>8</td>\n      <td>1</td>\n    </tr>\n    <tr>\n      <th>24</th>\n      <td>10.742</td>\n      <td>1757</td>\n      <td>156</td>\n      <td>3</td>\n      <td>57</td>\n      <td>15</td>\n      <td>0</td>\n    </tr>\n    <tr>\n      <th>25</th>\n      <td>14.090</td>\n      <td>4323</td>\n      <td>326</td>\n      <td>5</td>\n      <td>25</td>\n      <td>16</td>\n      <td>1</td>\n    </tr>\n    <tr>\n      <th>26</th>\n      <td>42.471</td>\n      <td>3625</td>\n      <td>289</td>\n      <td>6</td>\n      <td>44</td>\n      <td>12</td>\n      <td>0</td>\n    </tr>\n    <tr>\n      <th>27</th>\n      <td>32.793</td>\n      <td>4534</td>\n      <td>333</td>\n      <td>2</td>\n      <td>44</td>\n      <td>16</td>\n      <td>0</td>\n    </tr>\n    <tr>\n      <th>28</th>\n      <td>186.634</td>\n      <td>13414</td>\n      <td>949</td>\n      <td>2</td>\n      <td>41</td>\n      <td>14</td>\n      <td>1</td>\n    </tr>\n    <tr>\n      <th>29</th>\n      <td>26.813</td>\n      <td>5611</td>\n      <td>411</td>\n      <td>4</td>\n      <td>55</td>\n      <td>16</td>\n      <td>0</td>\n    </tr>\n    <tr>\n      <th>...</th>\n      <td>...</td>\n      <td>...</td>\n      <td>...</td>\n      <td>...</td>\n      <td>...</td>\n      <td>...</td>\n      <td>...</td>\n    </tr>\n    <tr>\n      <th>370</th>\n      <td>35.610</td>\n      <td>6135</td>\n      <td>466</td>\n      <td>4</td>\n      <td>40</td>\n      <td>12</td>\n      <td>0</td>\n    </tr>\n    <tr>\n      <th>371</th>\n      <td>39.116</td>\n      <td>2150</td>\n      <td>173</td>\n      <td>4</td>\n      <td>75</td>\n      <td>15</td>\n      <td>0</td>\n    </tr>\n    <tr>\n      <th>372</th>\n      <td>19.782</td>\n      <td>3782</td>\n      <td>293</td>\n      <td>2</td>\n      <td>46</td>\n      <td>16</td>\n      <td>0</td>\n    </tr>\n    <tr>\n      <th>373</th>\n      <td>55.412</td>\n      <td>5354</td>\n      <td>383</td>\n      <td>2</td>\n      <td>37</td>\n      <td>16</td>\n      <td>1</td>\n    </tr>\n    <tr>\n      <th>374</th>\n      <td>29.400</td>\n      <td>4840</td>\n      <td>368</td>\n      <td>3</td>\n      <td>76</td>\n      <td>18</td>\n      <td>1</td>\n    </tr>\n    <tr>\n      <th>375</th>\n      <td>20.974</td>\n      <td>5673</td>\n      <td>413</td>\n      <td>5</td>\n      <td>44</td>\n      <td>16</td>\n      <td>1</td>\n    </tr>\n    <tr>\n      <th>376</th>\n      <td>87.625</td>\n      <td>7167</td>\n      <td>515</td>\n      <td>2</td>\n      <td>46</td>\n      <td>10</td>\n      <td>0</td>\n    </tr>\n    <tr>\n      <th>377</th>\n      <td>28.144</td>\n      <td>1567</td>\n      <td>142</td>\n      <td>3</td>\n      <td>51</td>\n      <td>10</td>\n      <td>1</td>\n    </tr>\n    <tr>\n      <th>378</th>\n      <td>19.349</td>\n      <td>4941</td>\n      <td>366</td>\n      <td>1</td>\n      <td>33</td>\n      <td>19</td>\n      <td>1</td>\n    </tr>\n    <tr>\n      <th>379</th>\n      <td>53.308</td>\n      <td>2860</td>\n      <td>214</td>\n      <td>1</td>\n      <td>84</td>\n      <td>10</td>\n      <td>1</td>\n    </tr>\n    <tr>\n      <th>380</th>\n      <td>115.123</td>\n      <td>7760</td>\n      <td>538</td>\n      <td>3</td>\n      <td>83</td>\n      <td>14</td>\n      <td>0</td>\n    </tr>\n    <tr>\n      <th>381</th>\n      <td>101.788</td>\n      <td>8029</td>\n      <td>574</td>\n      <td>2</td>\n      <td>84</td>\n      <td>11</td>\n      <td>1</td>\n    </tr>\n    <tr>\n      <th>382</th>\n      <td>24.824</td>\n      <td>5495</td>\n      <td>409</td>\n      <td>1</td>\n      <td>33</td>\n      <td>9</td>\n      <td>0</td>\n    </tr>\n    <tr>\n      <th>383</th>\n      <td>14.292</td>\n      <td>3274</td>\n      <td>282</td>\n      <td>9</td>\n      <td>64</td>\n      <td>9</td>\n      <td>1</td>\n    </tr>\n    <tr>\n      <th>384</th>\n      <td>20.088</td>\n      <td>1870</td>\n      <td>180</td>\n      <td>3</td>\n      <td>76</td>\n      <td>16</td>\n      <td>0</td>\n    </tr>\n    <tr>\n      <th>385</th>\n      <td>26.400</td>\n      <td>5640</td>\n      <td>398</td>\n      <td>3</td>\n      <td>58</td>\n      <td>15</td>\n      <td>0</td>\n    </tr>\n    <tr>\n      <th>386</th>\n      <td>19.253</td>\n      <td>3683</td>\n      <td>287</td>\n      <td>4</td>\n      <td>57</td>\n      <td>10</td>\n      <td>0</td>\n    </tr>\n    <tr>\n      <th>387</th>\n      <td>16.529</td>\n      <td>1357</td>\n      <td>126</td>\n      <td>3</td>\n      <td>62</td>\n      <td>9</td>\n      <td>0</td>\n    </tr>\n    <tr>\n      <th>388</th>\n      <td>37.878</td>\n      <td>6827</td>\n      <td>482</td>\n      <td>2</td>\n      <td>80</td>\n      <td>13</td>\n      <td>0</td>\n    </tr>\n    <tr>\n      <th>389</th>\n      <td>83.948</td>\n      <td>7100</td>\n      <td>503</td>\n      <td>2</td>\n      <td>44</td>\n      <td>18</td>\n      <td>0</td>\n    </tr>\n    <tr>\n      <th>390</th>\n      <td>135.118</td>\n      <td>10578</td>\n      <td>747</td>\n      <td>3</td>\n      <td>81</td>\n      <td>15</td>\n      <td>1</td>\n    </tr>\n    <tr>\n      <th>391</th>\n      <td>73.327</td>\n      <td>6555</td>\n      <td>472</td>\n      <td>2</td>\n      <td>43</td>\n      <td>15</td>\n      <td>0</td>\n    </tr>\n    <tr>\n      <th>392</th>\n      <td>25.974</td>\n      <td>2308</td>\n      <td>196</td>\n      <td>2</td>\n      <td>24</td>\n      <td>10</td>\n      <td>0</td>\n    </tr>\n    <tr>\n      <th>393</th>\n      <td>17.316</td>\n      <td>1335</td>\n      <td>138</td>\n      <td>2</td>\n      <td>65</td>\n      <td>13</td>\n      <td>0</td>\n    </tr>\n    <tr>\n      <th>394</th>\n      <td>49.794</td>\n      <td>5758</td>\n      <td>410</td>\n      <td>4</td>\n      <td>40</td>\n      <td>8</td>\n      <td>0</td>\n    </tr>\n    <tr>\n      <th>395</th>\n      <td>12.096</td>\n      <td>4100</td>\n      <td>307</td>\n      <td>3</td>\n      <td>32</td>\n      <td>13</td>\n      <td>1</td>\n    </tr>\n    <tr>\n      <th>396</th>\n      <td>13.364</td>\n      <td>3838</td>\n      <td>296</td>\n      <td>5</td>\n      <td>65</td>\n      <td>17</td>\n      <td>0</td>\n    </tr>\n    <tr>\n      <th>397</th>\n      <td>57.872</td>\n      <td>4171</td>\n      <td>321</td>\n      <td>5</td>\n      <td>67</td>\n      <td>12</td>\n      <td>1</td>\n    </tr>\n    <tr>\n      <th>398</th>\n      <td>37.728</td>\n      <td>2525</td>\n      <td>192</td>\n      <td>1</td>\n      <td>44</td>\n      <td>13</td>\n      <td>1</td>\n    </tr>\n    <tr>\n      <th>399</th>\n      <td>18.701</td>\n      <td>5524</td>\n      <td>415</td>\n      <td>5</td>\n      <td>64</td>\n      <td>7</td>\n      <td>0</td>\n    </tr>\n  </tbody>\n</table>\n<p>400 rows × 7 columns</p>\n</div>"
     },
     "metadata": {},
     "output_type": "execute_result",
     "execution_count": 6
    }
   ],
   "source": [
    "#b\n",
    "feature_cols = ['Income','Limit','Rating','Cards','Age','Education','Married']\n",
    "\n",
    "# use the above list to select the features:\n",
    "X = df[feature_cols]\n",
    "\n",
    "# check the size:\n",
    "print(X.shape)\n",
    "\n",
    "# show the first 5 rows\n",
    "X"
   ],
   "metadata": {
    "collapsed": false,
    "pycharm": {
     "name": "#%%\n",
     "is_executing": false
    }
   }
  },
  {
   "cell_type": "code",
   "execution_count": 7,
   "outputs": [
    {
     "name": "stdout",
     "text": [
      "0       333\n1       903\n2       580\n3       964\n4       331\n5      1151\n6       203\n7       872\n8       279\n9      1350\n10     1407\n11        0\n12      204\n13     1081\n14      148\n15        0\n16        0\n17      368\n18      891\n19     1048\n20       89\n21      968\n22        0\n23      411\n24        0\n25      671\n26      654\n27      467\n28     1809\n29      915\n       ... \n370     992\n371       0\n372     840\n373    1003\n374     588\n375    1000\n376     767\n377       0\n378     717\n379       0\n380     661\n381     849\n382    1352\n383     382\n384       0\n385     905\n386     371\n387       0\n388    1129\n389     806\n390    1393\n391     721\n392       0\n393       0\n394     734\n395     560\n396     480\n397     138\n398       0\n399     966\nName: Balance, Length: 400, dtype: int64\n"
     ],
     "output_type": "stream"
    }
   ],
   "source": [
    "# select the target (last column) from the DataFrame\n",
    "y = df['Balance']\n",
    "\n",
    "# checking the size of target vector:\n",
    "y.size\n",
    "print(y)"
   ],
   "metadata": {
    "collapsed": false,
    "pycharm": {
     "name": "#%%\n",
     "is_executing": false
    }
   }
  },
  {
   "cell_type": "code",
   "execution_count": 8,
   "outputs": [
    {
     "name": "stderr",
     "text": [
      "/Users/george/Desktop/fall 2019/datascience/homework/venv/lib/python2.7/site-packages/ipykernel_launcher.py:2: DataConversionWarning: Data with input dtype int64, float64 were all converted to float64 by the scale function.\n  \n"
     ],
     "output_type": "stream"
    },
    {
     "data": {
      "text/plain": "array([[-0.86158299, -0.48999879, -0.46553881, ..., -1.2576741 ,\n        -0.78492991,  0.79539491],\n       [ 1.72743711,  0.82826106,  0.82870309, ...,  1.5284506 ,\n         0.49658831,  0.79539491],\n       [ 1.68675551,  1.01478681,  1.02931059, ...,  0.88996369,\n        -0.78492991, -1.25723711],\n       ...,\n       [ 0.35946155, -0.24491264, -0.21963285, ...,  0.65778663,\n        -0.46455035,  0.79539491],\n       [-0.21280808, -0.95891584, -1.05441888, ..., -0.67723146,\n        -0.1441708 ,  0.79539491],\n       [-0.75334493,  0.34199278,  0.38866085, ...,  0.48365384,\n        -2.06644812, -1.25723711]])"
     },
     "metadata": {},
     "output_type": "execute_result",
     "execution_count": 8
    }
   ],
   "source": [
    "X_scaled = preprocessing.scale(X)\n",
    "\n",
    "X_scaled\n"
   ],
   "metadata": {
    "collapsed": false,
    "pycharm": {
     "name": "#%%\n",
     "is_executing": false
    }
   }
  },
  {
   "cell_type": "code",
   "source": [
    "#c\n",
    "\n",
    "X_train, X_test, y_train, y_test = train_test_split(X, y, test_size=0.24, \n",
    "                                                    random_state=9)"
   ],
   "metadata": {
    "collapsed": false,
    "pycharm": {
     "name": "#%%\n",
     "is_executing": false
    }
   },
   "execution_count": 9,
   "outputs": []
  },
  {
   "cell_type": "code",
   "execution_count": 10,
   "outputs": [
    {
     "name": "stdout",
     "text": [
      "(304, 7)\n(304,)\n"
     ],
     "output_type": "stream"
    }
   ],
   "source": [
    "\n",
    "print(X_train.shape)\n",
    "print(y_train.shape)"
   ],
   "metadata": {
    "collapsed": false,
    "pycharm": {
     "name": "#%%\n",
     "is_executing": false
    }
   }
  },
  {
   "cell_type": "code",
   "execution_count": 11,
   "outputs": [
    {
     "name": "stdout",
     "text": [
      "(96, 7)\n(96,)\n"
     ],
     "output_type": "stream"
    }
   ],
   "source": [
    "print(X_test.shape)\n",
    "print(y_test.shape)\n"
   ],
   "metadata": {
    "collapsed": false,
    "pycharm": {
     "name": "#%%\n",
     "is_executing": false
    }
   }
  },
  {
   "cell_type": "code",
   "source": [
    "#d\n",
    "\n",
    "my_linreg = LinearRegression()\n",
    "\n",
    "my_linreg.fit(X_train, y_train)"
   ],
   "metadata": {
    "collapsed": false,
    "pycharm": {
     "name": "#%% \n",
     "is_executing": false
    }
   },
   "execution_count": 12,
   "outputs": [
    {
     "data": {
      "text/plain": "LinearRegression(copy_X=True, fit_intercept=True, n_jobs=None,\n         normalize=False)"
     },
     "metadata": {},
     "output_type": "execute_result",
     "execution_count": 12
    }
   ]
  },
  {
   "cell_type": "code",
   "execution_count": 13,
   "outputs": [
    {
     "name": "stdout",
     "text": [
      "-497.0869076583066\n[ -7.5197188    0.15640406   1.6355104   18.19349659  -1.00062374\n   3.73501837 -20.17447952]\n"
     ],
     "output_type": "stream"
    }
   ],
   "source": [
    "print(my_linreg.intercept_)\n",
    "\n",
    "print(my_linreg.coef_)"
   ],
   "metadata": {
    "collapsed": false,
    "pycharm": {
     "name": "#%%\n",
     "is_executing": false
    }
   }
  },
  {
   "cell_type": "markdown",
   "source": [
    "The most important feature is Rating and the least important feature is Education.\n"
   ],
   "metadata": {
    "collapsed": false,
    "pycharm": {
     "name": "#%% md\n"
    }
   }
  },
  {
   "cell_type": "code",
   "source": [
    "#e \n",
    "\n",
    "\n",
    "y_prediction = my_linreg.predict(X_test)\n",
    "\n",
    "print(y_prediction)"
   ],
   "metadata": {
    "collapsed": false,
    "pycharm": {
     "name": "#%% \n",
     "is_executing": false
    }
   },
   "execution_count": 14,
   "outputs": [
    {
     "name": "stdout",
     "text": [
      "[ 316.89813114  677.5093907   489.03669272  -49.82989971  706.42913216\n  864.96954115  897.65752581  108.20297732 -213.73474279  834.94198677\n   11.05109139 -227.34447869  472.01450822    4.54554458 -228.17349827\n  956.21537845  896.91570524  821.97824267   18.37144232  857.31517013\n 1028.30326279  699.22168497 1176.9426756   666.28578465  643.94064891\n  690.63628696  589.35273903  -29.37237394  575.15444917  406.78468032\n  845.81453327  828.30862904   82.2376206   953.40592514 -184.74828227\n  525.84335889 1045.19205022  535.04104472  107.26753118 -172.8968111\n  497.84037664 1155.35533939  429.08674601  403.49872552  143.72087313\n  764.78737012  431.24114308 1304.79656588  475.00132057   95.75404622\n -215.69000296    5.62900657  313.88797405  859.9328932   792.27147016\n 1029.90210771 1500.40180297 1078.48617624  713.37981473 1072.97948262\n  -64.12187718  488.60063387   92.3601712   440.414465    277.13284667\n 1075.41508762  258.10181743  773.89657462  278.12447916  409.51029492\n  335.56674013  989.87781589  978.31940615 1042.6230052   915.82319179\n  150.95645254  516.7089988   733.47654088   74.84330655  556.47429962\n 1096.60831626  359.12494251  204.54562103  407.76115868  113.50656023\n  958.07237887  934.59051997    2.98452112 1627.80317193  636.31395153\n  688.17824441  711.80910955  293.66354104 -219.28997401  -91.76701391\n -149.31642723]\n"
     ],
     "output_type": "stream"
    }
   ]
  },
  {
   "cell_type": "code",
   "execution_count": 15,
   "outputs": [
    {
     "name": "stdout",
     "text": [
      "143.24649739643206\n"
     ],
     "output_type": "stream"
    }
   ],
   "source": [
    "mse = metrics.mean_squared_error(y_test, y_prediction)\n",
    "\n",
    "rmse = np.sqrt(mse)\n",
    "\n",
    "print(rmse)"
   ],
   "metadata": {
    "collapsed": false,
    "pycharm": {
     "name": "#%%\n",
     "is_executing": false
    }
   }
  },
  {
   "cell_type": "code",
   "source": [
    "#f\n",
    "\n",
    "from sklearn.model_selection import cross_val_score"
   ],
   "metadata": {
    "collapsed": false,
    "pycharm": {
     "name": "#%%\n",
     "is_executing": false
    }
   },
   "execution_count": 16,
   "outputs": []
  },
  {
   "cell_type": "code",
   "execution_count": 17,
   "outputs": [
    {
     "name": "stdout",
     "text": [
      "(400, 7)\n"
     ],
     "output_type": "stream"
    },
    {
     "data": {
      "text/plain": "      Income  Limit  Rating  Cards  Age  Education  Married\n0     14.891   3606     283      2   34         11        1\n1    106.025   6645     483      3   82         15        1\n2    104.593   7075     514      4   71         11        0\n3    148.924   9504     681      3   36         11        0\n4     55.882   4897     357      2   68         16        1\n5     80.180   8047     569      4   77         10        0\n6     20.996   3388     259      2   37         12        0\n7     71.408   7114     512      2   87          9        0\n8     15.125   3300     266      5   66         13        0\n9     71.061   6819     491      3   41         19        1\n10    63.095   8117     589      4   30         14        1\n11    15.045   1311     138      3   64         16        0\n12    80.616   5308     394      1   57          7        1\n13    43.682   6922     511      1   49          9        1\n14    19.144   3291     269      2   75         13        0\n15    20.089   2525     200      3   57         15        1\n16    53.598   3714     286      3   73         17        1\n17    36.496   4378     339      3   69         15        1\n18    49.570   6384     448      1   28          9        1\n19    42.079   6626     479      2   44          9        0\n20    17.700   2860     235      4   63         16        0\n21    37.348   6378     458      1   72         17        0\n22    20.103   2631     213      3   61         10        1\n23    64.027   5179     398      5   48          8        1\n24    10.742   1757     156      3   57         15        0\n25    14.090   4323     326      5   25         16        1\n26    42.471   3625     289      6   44         12        0\n27    32.793   4534     333      2   44         16        0\n28   186.634  13414     949      2   41         14        1\n29    26.813   5611     411      4   55         16        0\n..       ...    ...     ...    ...  ...        ...      ...\n370   35.610   6135     466      4   40         12        0\n371   39.116   2150     173      4   75         15        0\n372   19.782   3782     293      2   46         16        0\n373   55.412   5354     383      2   37         16        1\n374   29.400   4840     368      3   76         18        1\n375   20.974   5673     413      5   44         16        1\n376   87.625   7167     515      2   46         10        0\n377   28.144   1567     142      3   51         10        1\n378   19.349   4941     366      1   33         19        1\n379   53.308   2860     214      1   84         10        1\n380  115.123   7760     538      3   83         14        0\n381  101.788   8029     574      2   84         11        1\n382   24.824   5495     409      1   33          9        0\n383   14.292   3274     282      9   64          9        1\n384   20.088   1870     180      3   76         16        0\n385   26.400   5640     398      3   58         15        0\n386   19.253   3683     287      4   57         10        0\n387   16.529   1357     126      3   62          9        0\n388   37.878   6827     482      2   80         13        0\n389   83.948   7100     503      2   44         18        0\n390  135.118  10578     747      3   81         15        1\n391   73.327   6555     472      2   43         15        0\n392   25.974   2308     196      2   24         10        0\n393   17.316   1335     138      2   65         13        0\n394   49.794   5758     410      4   40          8        0\n395   12.096   4100     307      3   32         13        1\n396   13.364   3838     296      5   65         17        0\n397   57.872   4171     321      5   67         12        1\n398   37.728   2525     192      1   44         13        1\n399   18.701   5524     415      5   64          7        0\n\n[400 rows x 7 columns]",
      "text/html": "<div>\n<style scoped>\n    .dataframe tbody tr th:only-of-type {\n        vertical-align: middle;\n    }\n\n    .dataframe tbody tr th {\n        vertical-align: top;\n    }\n\n    .dataframe thead th {\n        text-align: right;\n    }\n</style>\n<table border=\"1\" class=\"dataframe\">\n  <thead>\n    <tr style=\"text-align: right;\">\n      <th></th>\n      <th>Income</th>\n      <th>Limit</th>\n      <th>Rating</th>\n      <th>Cards</th>\n      <th>Age</th>\n      <th>Education</th>\n      <th>Married</th>\n    </tr>\n  </thead>\n  <tbody>\n    <tr>\n      <th>0</th>\n      <td>14.891</td>\n      <td>3606</td>\n      <td>283</td>\n      <td>2</td>\n      <td>34</td>\n      <td>11</td>\n      <td>1</td>\n    </tr>\n    <tr>\n      <th>1</th>\n      <td>106.025</td>\n      <td>6645</td>\n      <td>483</td>\n      <td>3</td>\n      <td>82</td>\n      <td>15</td>\n      <td>1</td>\n    </tr>\n    <tr>\n      <th>2</th>\n      <td>104.593</td>\n      <td>7075</td>\n      <td>514</td>\n      <td>4</td>\n      <td>71</td>\n      <td>11</td>\n      <td>0</td>\n    </tr>\n    <tr>\n      <th>3</th>\n      <td>148.924</td>\n      <td>9504</td>\n      <td>681</td>\n      <td>3</td>\n      <td>36</td>\n      <td>11</td>\n      <td>0</td>\n    </tr>\n    <tr>\n      <th>4</th>\n      <td>55.882</td>\n      <td>4897</td>\n      <td>357</td>\n      <td>2</td>\n      <td>68</td>\n      <td>16</td>\n      <td>1</td>\n    </tr>\n    <tr>\n      <th>5</th>\n      <td>80.180</td>\n      <td>8047</td>\n      <td>569</td>\n      <td>4</td>\n      <td>77</td>\n      <td>10</td>\n      <td>0</td>\n    </tr>\n    <tr>\n      <th>6</th>\n      <td>20.996</td>\n      <td>3388</td>\n      <td>259</td>\n      <td>2</td>\n      <td>37</td>\n      <td>12</td>\n      <td>0</td>\n    </tr>\n    <tr>\n      <th>7</th>\n      <td>71.408</td>\n      <td>7114</td>\n      <td>512</td>\n      <td>2</td>\n      <td>87</td>\n      <td>9</td>\n      <td>0</td>\n    </tr>\n    <tr>\n      <th>8</th>\n      <td>15.125</td>\n      <td>3300</td>\n      <td>266</td>\n      <td>5</td>\n      <td>66</td>\n      <td>13</td>\n      <td>0</td>\n    </tr>\n    <tr>\n      <th>9</th>\n      <td>71.061</td>\n      <td>6819</td>\n      <td>491</td>\n      <td>3</td>\n      <td>41</td>\n      <td>19</td>\n      <td>1</td>\n    </tr>\n    <tr>\n      <th>10</th>\n      <td>63.095</td>\n      <td>8117</td>\n      <td>589</td>\n      <td>4</td>\n      <td>30</td>\n      <td>14</td>\n      <td>1</td>\n    </tr>\n    <tr>\n      <th>11</th>\n      <td>15.045</td>\n      <td>1311</td>\n      <td>138</td>\n      <td>3</td>\n      <td>64</td>\n      <td>16</td>\n      <td>0</td>\n    </tr>\n    <tr>\n      <th>12</th>\n      <td>80.616</td>\n      <td>5308</td>\n      <td>394</td>\n      <td>1</td>\n      <td>57</td>\n      <td>7</td>\n      <td>1</td>\n    </tr>\n    <tr>\n      <th>13</th>\n      <td>43.682</td>\n      <td>6922</td>\n      <td>511</td>\n      <td>1</td>\n      <td>49</td>\n      <td>9</td>\n      <td>1</td>\n    </tr>\n    <tr>\n      <th>14</th>\n      <td>19.144</td>\n      <td>3291</td>\n      <td>269</td>\n      <td>2</td>\n      <td>75</td>\n      <td>13</td>\n      <td>0</td>\n    </tr>\n    <tr>\n      <th>15</th>\n      <td>20.089</td>\n      <td>2525</td>\n      <td>200</td>\n      <td>3</td>\n      <td>57</td>\n      <td>15</td>\n      <td>1</td>\n    </tr>\n    <tr>\n      <th>16</th>\n      <td>53.598</td>\n      <td>3714</td>\n      <td>286</td>\n      <td>3</td>\n      <td>73</td>\n      <td>17</td>\n      <td>1</td>\n    </tr>\n    <tr>\n      <th>17</th>\n      <td>36.496</td>\n      <td>4378</td>\n      <td>339</td>\n      <td>3</td>\n      <td>69</td>\n      <td>15</td>\n      <td>1</td>\n    </tr>\n    <tr>\n      <th>18</th>\n      <td>49.570</td>\n      <td>6384</td>\n      <td>448</td>\n      <td>1</td>\n      <td>28</td>\n      <td>9</td>\n      <td>1</td>\n    </tr>\n    <tr>\n      <th>19</th>\n      <td>42.079</td>\n      <td>6626</td>\n      <td>479</td>\n      <td>2</td>\n      <td>44</td>\n      <td>9</td>\n      <td>0</td>\n    </tr>\n    <tr>\n      <th>20</th>\n      <td>17.700</td>\n      <td>2860</td>\n      <td>235</td>\n      <td>4</td>\n      <td>63</td>\n      <td>16</td>\n      <td>0</td>\n    </tr>\n    <tr>\n      <th>21</th>\n      <td>37.348</td>\n      <td>6378</td>\n      <td>458</td>\n      <td>1</td>\n      <td>72</td>\n      <td>17</td>\n      <td>0</td>\n    </tr>\n    <tr>\n      <th>22</th>\n      <td>20.103</td>\n      <td>2631</td>\n      <td>213</td>\n      <td>3</td>\n      <td>61</td>\n      <td>10</td>\n      <td>1</td>\n    </tr>\n    <tr>\n      <th>23</th>\n      <td>64.027</td>\n      <td>5179</td>\n      <td>398</td>\n      <td>5</td>\n      <td>48</td>\n      <td>8</td>\n      <td>1</td>\n    </tr>\n    <tr>\n      <th>24</th>\n      <td>10.742</td>\n      <td>1757</td>\n      <td>156</td>\n      <td>3</td>\n      <td>57</td>\n      <td>15</td>\n      <td>0</td>\n    </tr>\n    <tr>\n      <th>25</th>\n      <td>14.090</td>\n      <td>4323</td>\n      <td>326</td>\n      <td>5</td>\n      <td>25</td>\n      <td>16</td>\n      <td>1</td>\n    </tr>\n    <tr>\n      <th>26</th>\n      <td>42.471</td>\n      <td>3625</td>\n      <td>289</td>\n      <td>6</td>\n      <td>44</td>\n      <td>12</td>\n      <td>0</td>\n    </tr>\n    <tr>\n      <th>27</th>\n      <td>32.793</td>\n      <td>4534</td>\n      <td>333</td>\n      <td>2</td>\n      <td>44</td>\n      <td>16</td>\n      <td>0</td>\n    </tr>\n    <tr>\n      <th>28</th>\n      <td>186.634</td>\n      <td>13414</td>\n      <td>949</td>\n      <td>2</td>\n      <td>41</td>\n      <td>14</td>\n      <td>1</td>\n    </tr>\n    <tr>\n      <th>29</th>\n      <td>26.813</td>\n      <td>5611</td>\n      <td>411</td>\n      <td>4</td>\n      <td>55</td>\n      <td>16</td>\n      <td>0</td>\n    </tr>\n    <tr>\n      <th>...</th>\n      <td>...</td>\n      <td>...</td>\n      <td>...</td>\n      <td>...</td>\n      <td>...</td>\n      <td>...</td>\n      <td>...</td>\n    </tr>\n    <tr>\n      <th>370</th>\n      <td>35.610</td>\n      <td>6135</td>\n      <td>466</td>\n      <td>4</td>\n      <td>40</td>\n      <td>12</td>\n      <td>0</td>\n    </tr>\n    <tr>\n      <th>371</th>\n      <td>39.116</td>\n      <td>2150</td>\n      <td>173</td>\n      <td>4</td>\n      <td>75</td>\n      <td>15</td>\n      <td>0</td>\n    </tr>\n    <tr>\n      <th>372</th>\n      <td>19.782</td>\n      <td>3782</td>\n      <td>293</td>\n      <td>2</td>\n      <td>46</td>\n      <td>16</td>\n      <td>0</td>\n    </tr>\n    <tr>\n      <th>373</th>\n      <td>55.412</td>\n      <td>5354</td>\n      <td>383</td>\n      <td>2</td>\n      <td>37</td>\n      <td>16</td>\n      <td>1</td>\n    </tr>\n    <tr>\n      <th>374</th>\n      <td>29.400</td>\n      <td>4840</td>\n      <td>368</td>\n      <td>3</td>\n      <td>76</td>\n      <td>18</td>\n      <td>1</td>\n    </tr>\n    <tr>\n      <th>375</th>\n      <td>20.974</td>\n      <td>5673</td>\n      <td>413</td>\n      <td>5</td>\n      <td>44</td>\n      <td>16</td>\n      <td>1</td>\n    </tr>\n    <tr>\n      <th>376</th>\n      <td>87.625</td>\n      <td>7167</td>\n      <td>515</td>\n      <td>2</td>\n      <td>46</td>\n      <td>10</td>\n      <td>0</td>\n    </tr>\n    <tr>\n      <th>377</th>\n      <td>28.144</td>\n      <td>1567</td>\n      <td>142</td>\n      <td>3</td>\n      <td>51</td>\n      <td>10</td>\n      <td>1</td>\n    </tr>\n    <tr>\n      <th>378</th>\n      <td>19.349</td>\n      <td>4941</td>\n      <td>366</td>\n      <td>1</td>\n      <td>33</td>\n      <td>19</td>\n      <td>1</td>\n    </tr>\n    <tr>\n      <th>379</th>\n      <td>53.308</td>\n      <td>2860</td>\n      <td>214</td>\n      <td>1</td>\n      <td>84</td>\n      <td>10</td>\n      <td>1</td>\n    </tr>\n    <tr>\n      <th>380</th>\n      <td>115.123</td>\n      <td>7760</td>\n      <td>538</td>\n      <td>3</td>\n      <td>83</td>\n      <td>14</td>\n      <td>0</td>\n    </tr>\n    <tr>\n      <th>381</th>\n      <td>101.788</td>\n      <td>8029</td>\n      <td>574</td>\n      <td>2</td>\n      <td>84</td>\n      <td>11</td>\n      <td>1</td>\n    </tr>\n    <tr>\n      <th>382</th>\n      <td>24.824</td>\n      <td>5495</td>\n      <td>409</td>\n      <td>1</td>\n      <td>33</td>\n      <td>9</td>\n      <td>0</td>\n    </tr>\n    <tr>\n      <th>383</th>\n      <td>14.292</td>\n      <td>3274</td>\n      <td>282</td>\n      <td>9</td>\n      <td>64</td>\n      <td>9</td>\n      <td>1</td>\n    </tr>\n    <tr>\n      <th>384</th>\n      <td>20.088</td>\n      <td>1870</td>\n      <td>180</td>\n      <td>3</td>\n      <td>76</td>\n      <td>16</td>\n      <td>0</td>\n    </tr>\n    <tr>\n      <th>385</th>\n      <td>26.400</td>\n      <td>5640</td>\n      <td>398</td>\n      <td>3</td>\n      <td>58</td>\n      <td>15</td>\n      <td>0</td>\n    </tr>\n    <tr>\n      <th>386</th>\n      <td>19.253</td>\n      <td>3683</td>\n      <td>287</td>\n      <td>4</td>\n      <td>57</td>\n      <td>10</td>\n      <td>0</td>\n    </tr>\n    <tr>\n      <th>387</th>\n      <td>16.529</td>\n      <td>1357</td>\n      <td>126</td>\n      <td>3</td>\n      <td>62</td>\n      <td>9</td>\n      <td>0</td>\n    </tr>\n    <tr>\n      <th>388</th>\n      <td>37.878</td>\n      <td>6827</td>\n      <td>482</td>\n      <td>2</td>\n      <td>80</td>\n      <td>13</td>\n      <td>0</td>\n    </tr>\n    <tr>\n      <th>389</th>\n      <td>83.948</td>\n      <td>7100</td>\n      <td>503</td>\n      <td>2</td>\n      <td>44</td>\n      <td>18</td>\n      <td>0</td>\n    </tr>\n    <tr>\n      <th>390</th>\n      <td>135.118</td>\n      <td>10578</td>\n      <td>747</td>\n      <td>3</td>\n      <td>81</td>\n      <td>15</td>\n      <td>1</td>\n    </tr>\n    <tr>\n      <th>391</th>\n      <td>73.327</td>\n      <td>6555</td>\n      <td>472</td>\n      <td>2</td>\n      <td>43</td>\n      <td>15</td>\n      <td>0</td>\n    </tr>\n    <tr>\n      <th>392</th>\n      <td>25.974</td>\n      <td>2308</td>\n      <td>196</td>\n      <td>2</td>\n      <td>24</td>\n      <td>10</td>\n      <td>0</td>\n    </tr>\n    <tr>\n      <th>393</th>\n      <td>17.316</td>\n      <td>1335</td>\n      <td>138</td>\n      <td>2</td>\n      <td>65</td>\n      <td>13</td>\n      <td>0</td>\n    </tr>\n    <tr>\n      <th>394</th>\n      <td>49.794</td>\n      <td>5758</td>\n      <td>410</td>\n      <td>4</td>\n      <td>40</td>\n      <td>8</td>\n      <td>0</td>\n    </tr>\n    <tr>\n      <th>395</th>\n      <td>12.096</td>\n      <td>4100</td>\n      <td>307</td>\n      <td>3</td>\n      <td>32</td>\n      <td>13</td>\n      <td>1</td>\n    </tr>\n    <tr>\n      <th>396</th>\n      <td>13.364</td>\n      <td>3838</td>\n      <td>296</td>\n      <td>5</td>\n      <td>65</td>\n      <td>17</td>\n      <td>0</td>\n    </tr>\n    <tr>\n      <th>397</th>\n      <td>57.872</td>\n      <td>4171</td>\n      <td>321</td>\n      <td>5</td>\n      <td>67</td>\n      <td>12</td>\n      <td>1</td>\n    </tr>\n    <tr>\n      <th>398</th>\n      <td>37.728</td>\n      <td>2525</td>\n      <td>192</td>\n      <td>1</td>\n      <td>44</td>\n      <td>13</td>\n      <td>1</td>\n    </tr>\n    <tr>\n      <th>399</th>\n      <td>18.701</td>\n      <td>5524</td>\n      <td>415</td>\n      <td>5</td>\n      <td>64</td>\n      <td>7</td>\n      <td>0</td>\n    </tr>\n  </tbody>\n</table>\n<p>400 rows × 7 columns</p>\n</div>"
     },
     "metadata": {},
     "output_type": "execute_result",
     "execution_count": 17
    }
   ],
   "source": [
    "feature_cols = ['Income','Limit','Rating','Cards','Age','Education','Married']\n",
    "\n",
    "X = df[feature_cols]\n",
    "\n",
    "print(X.shape)\n",
    "\n",
    "X"
   ],
   "metadata": {
    "collapsed": false,
    "pycharm": {
     "name": "#%%\n",
     "is_executing": false
    }
   }
  },
  {
   "cell_type": "code",
   "execution_count": 18,
   "outputs": [
    {
     "name": "stdout",
     "text": [
      "0       333\n1       903\n2       580\n3       964\n4       331\n5      1151\n6       203\n7       872\n8       279\n9      1350\n10     1407\n11        0\n12      204\n13     1081\n14      148\n15        0\n16        0\n17      368\n18      891\n19     1048\n20       89\n21      968\n22        0\n23      411\n24        0\n25      671\n26      654\n27      467\n28     1809\n29      915\n       ... \n370     992\n371       0\n372     840\n373    1003\n374     588\n375    1000\n376     767\n377       0\n378     717\n379       0\n380     661\n381     849\n382    1352\n383     382\n384       0\n385     905\n386     371\n387       0\n388    1129\n389     806\n390    1393\n391     721\n392       0\n393       0\n394     734\n395     560\n396     480\n397     138\n398       0\n399     966\nName: Balance, Length: 400, dtype: int64\n"
     ],
     "output_type": "stream"
    }
   ],
   "source": [
    "y = df['Balance']\n",
    "\n",
    "y.size\n",
    "print(y)"
   ],
   "metadata": {
    "collapsed": false,
    "pycharm": {
     "name": "#%%\n",
     "is_executing": false
    }
   }
  },
  {
   "cell_type": "code",
   "execution_count": 19,
   "outputs": [
    {
     "name": "stderr",
     "text": [
      "/Users/george/Desktop/fall 2019/datascience/homework/venv/lib/python2.7/site-packages/ipykernel_launcher.py:2: DataConversionWarning: Data with input dtype int64, float64 were all converted to float64 by the scale function.\n  \n"
     ],
     "output_type": "stream"
    },
    {
     "data": {
      "text/plain": "array([[-0.86158299, -0.48999879, -0.46553881, ..., -1.2576741 ,\n        -0.78492991,  0.79539491],\n       [ 1.72743711,  0.82826106,  0.82870309, ...,  1.5284506 ,\n         0.49658831,  0.79539491],\n       [ 1.68675551,  1.01478681,  1.02931059, ...,  0.88996369,\n        -0.78492991, -1.25723711],\n       ...,\n       [ 0.35946155, -0.24491264, -0.21963285, ...,  0.65778663,\n        -0.46455035,  0.79539491],\n       [-0.21280808, -0.95891584, -1.05441888, ..., -0.67723146,\n        -0.1441708 ,  0.79539491],\n       [-0.75334493,  0.34199278,  0.38866085, ...,  0.48365384,\n        -2.06644812, -1.25723711]])"
     },
     "metadata": {},
     "output_type": "execute_result",
     "execution_count": 19
    }
   ],
   "source": [
    "X_scaled = preprocessing.scale(X)\n",
    "\n",
    "X_scaled"
   ],
   "metadata": {
    "collapsed": false,
    "pycharm": {
     "name": "#%%\n",
     "is_executing": false
    }
   }
  },
  {
   "cell_type": "code",
   "execution_count": 20,
   "outputs": [
    {
     "name": "stdout",
     "text": [
      "[-23646.90415342 -32003.04401232 -35462.64435619 -37327.60719635\n -14341.32205938 -33628.37104224 -31631.99317834 -12491.00334951\n -20749.61212176 -23204.9474346 ]\n-26448.744890410482\n"
     ],
     "output_type": "stream"
    }
   ],
   "source": [
    "my_linreg = LinearRegression()\n",
    "\n",
    "my_logreg_accuracy_list = cross_val_score(my_linreg, X, y, cv=10, scoring='neg_mean_squared_error')\n",
    "\n",
    "print (my_logreg_accuracy_list)\n",
    "\n",
    "my_logreg_accuracy_cv = my_logreg_accuracy_list.mean()\n",
    "\n",
    "print(my_logreg_accuracy_cv)"
   ],
   "metadata": {
    "collapsed": false,
    "pycharm": {
     "name": "#%%\n",
     "is_executing": false
    }
   }
  },
  {
   "cell_type": "code",
   "execution_count": 21,
   "outputs": [
    {
     "name": "stdout",
     "text": [
      "[153.7754992  178.89394627 188.31527914 193.20353826 119.75525901\n 183.38039983 177.85385343 111.76315739 144.04725656 152.331702  ]\n"
     ],
     "output_type": "stream"
    }
   ],
   "source": [
    "my_logreg_accuracy_list_positive = -my_logreg_accuracy_list\n",
    "\n",
    "rmse_list = np.sqrt(my_logreg_accuracy_list_positive)\n",
    "print(rmse_list)"
   ],
   "metadata": {
    "collapsed": false,
    "pycharm": {
     "name": "#%%\n",
     "is_executing": false
    }
   }
  },
  {
   "cell_type": "code",
   "execution_count": 22,
   "outputs": [
    {
     "name": "stdout",
     "text": [
      "160.33198910744073\n"
     ],
     "output_type": "stream"
    }
   ],
   "source": [
    "\n",
    "print(rmse_list.mean())\n"
   ],
   "metadata": {
    "collapsed": false,
    "pycharm": {
     "name": "#%%\n",
     "is_executing": false
    }
   }
  },
  {
   "cell_type": "markdown",
   "source": [
    "The RMSE when using cross validation is 160.33198910744073.\n"
   ],
   "metadata": {
    "collapsed": false,
    "pycharm": {
     "name": "#%% md\n"
    }
   }
  }
 ],
 "metadata": {
  "kernelspec": {
   "display_name": "Python 2",
   "language": "python",
   "name": "python2"
  },
  "language_info": {
   "codemirror_mode": {
    "name": "ipython",
    "version": 2
   },
   "file_extension": ".py",
   "mimetype": "text/x-python",
   "name": "python",
   "nbconvert_exporter": "python",
   "pygments_lexer": "ipython2",
   "version": "2.7.6"
  },
  "pycharm": {
   "stem_cell": {
    "cell_type": "raw",
    "source": [],
    "metadata": {
     "collapsed": false
    }
   }
  }
 },
 "nbformat": 4,
 "nbformat_minor": 0
}