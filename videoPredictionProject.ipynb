{
 "cells": [
  {
   "cell_type": "code",
   "execution_count": 58,
   "metadata": {
    "pycharm": {
     "is_executing": false
    }
   },
   "outputs": [],
   "source": [
    "import warnings\n",
    "warnings.filterwarnings('ignore')"
   ]
  },
  {
   "cell_type": "markdown",
   "metadata": {
    "pycharm": {
     "is_executing": false,
     "name": "#%% md\n"
    }
   },
   "source": [
    "### First, we'll import our scores data. We can check the average score data and count."
   ]
  },
  {
   "cell_type": "code",
   "execution_count": 59,
   "metadata": {
    "pycharm": {
     "is_executing": false,
     "name": "#%%\n"
    }
   },
   "outputs": [
    {
     "data": {
      "text/html": [
       "<div>\n",
       "<style scoped>\n",
       "    .dataframe tbody tr th:only-of-type {\n",
       "        vertical-align: middle;\n",
       "    }\n",
       "\n",
       "    .dataframe tbody tr th {\n",
       "        vertical-align: top;\n",
       "    }\n",
       "\n",
       "    .dataframe thead th {\n",
       "        text-align: right;\n",
       "    }\n",
       "</style>\n",
       "<table border=\"1\" class=\"dataframe\">\n",
       "  <thead>\n",
       "    <tr style=\"text-align: right;\">\n",
       "      <th></th>\n",
       "      <th>device</th>\n",
       "      <th>videoA</th>\n",
       "      <th>videoB</th>\n",
       "      <th>score</th>\n",
       "    </tr>\n",
       "  </thead>\n",
       "  <tbody>\n",
       "    <tr>\n",
       "      <th>0</th>\n",
       "      <td>iPad Pro 2 12.9</td>\n",
       "      <td>273</td>\n",
       "      <td>278</td>\n",
       "      <td>0</td>\n",
       "    </tr>\n",
       "    <tr>\n",
       "      <th>1</th>\n",
       "      <td>iPad Pro 2 12.9</td>\n",
       "      <td>213</td>\n",
       "      <td>209</td>\n",
       "      <td>-1</td>\n",
       "    </tr>\n",
       "    <tr>\n",
       "      <th>2</th>\n",
       "      <td>iPad Pro 2 12.9</td>\n",
       "      <td>317</td>\n",
       "      <td>314</td>\n",
       "      <td>0</td>\n",
       "    </tr>\n",
       "    <tr>\n",
       "      <th>3</th>\n",
       "      <td>iPhone X</td>\n",
       "      <td>209</td>\n",
       "      <td>201</td>\n",
       "      <td>0</td>\n",
       "    </tr>\n",
       "    <tr>\n",
       "      <th>4</th>\n",
       "      <td>iPad Pro 2 12.9</td>\n",
       "      <td>102</td>\n",
       "      <td>98</td>\n",
       "      <td>-2</td>\n",
       "    </tr>\n",
       "  </tbody>\n",
       "</table>\n",
       "</div>"
      ],
      "text/plain": [
       "            device  videoA  videoB  score\n",
       "0  iPad Pro 2 12.9     273     278      0\n",
       "1  iPad Pro 2 12.9     213     209     -1\n",
       "2  iPad Pro 2 12.9     317     314      0\n",
       "3         iPhone X     209     201      0\n",
       "4  iPad Pro 2 12.9     102      98     -2"
      ]
     },
     "execution_count": 59,
     "metadata": {},
     "output_type": "execute_result"
    }
   ],
   "source": [
    "import pandas as pd\n",
    "\n",
    "scores_df = pd.read_csv(\"scores.csv\")\n",
    "scores_df.head()"
   ]
  },
  {
   "cell_type": "code",
   "execution_count": 60,
   "metadata": {
    "pycharm": {
     "is_executing": false,
     "name": "#%%\n"
    }
   },
   "outputs": [
    {
     "data": {
      "text/html": [
       "<div>\n",
       "<style scoped>\n",
       "    .dataframe tbody tr th:only-of-type {\n",
       "        vertical-align: middle;\n",
       "    }\n",
       "\n",
       "    .dataframe tbody tr th {\n",
       "        vertical-align: top;\n",
       "    }\n",
       "\n",
       "    .dataframe thead th {\n",
       "        text-align: right;\n",
       "    }\n",
       "</style>\n",
       "<table border=\"1\" class=\"dataframe\">\n",
       "  <thead>\n",
       "    <tr style=\"text-align: right;\">\n",
       "      <th></th>\n",
       "      <th>score</th>\n",
       "      <th>rating_count</th>\n",
       "    </tr>\n",
       "  </thead>\n",
       "  <tbody>\n",
       "    <tr>\n",
       "      <th>count</th>\n",
       "      <td>331.000000</td>\n",
       "      <td>331.000000</td>\n",
       "    </tr>\n",
       "    <tr>\n",
       "      <th>mean</th>\n",
       "      <td>-0.048137</td>\n",
       "      <td>1.679758</td>\n",
       "    </tr>\n",
       "    <tr>\n",
       "      <th>std</th>\n",
       "      <td>1.397550</td>\n",
       "      <td>1.053212</td>\n",
       "    </tr>\n",
       "    <tr>\n",
       "      <th>min</th>\n",
       "      <td>-2.000000</td>\n",
       "      <td>1.000000</td>\n",
       "    </tr>\n",
       "    <tr>\n",
       "      <th>25%</th>\n",
       "      <td>-1.000000</td>\n",
       "      <td>1.000000</td>\n",
       "    </tr>\n",
       "    <tr>\n",
       "      <th>50%</th>\n",
       "      <td>0.000000</td>\n",
       "      <td>1.000000</td>\n",
       "    </tr>\n",
       "    <tr>\n",
       "      <th>75%</th>\n",
       "      <td>1.000000</td>\n",
       "      <td>2.000000</td>\n",
       "    </tr>\n",
       "    <tr>\n",
       "      <th>max</th>\n",
       "      <td>2.000000</td>\n",
       "      <td>6.000000</td>\n",
       "    </tr>\n",
       "  </tbody>\n",
       "</table>\n",
       "</div>"
      ],
      "text/plain": [
       "            score  rating_count\n",
       "count  331.000000    331.000000\n",
       "mean    -0.048137      1.679758\n",
       "std      1.397550      1.053212\n",
       "min     -2.000000      1.000000\n",
       "25%     -1.000000      1.000000\n",
       "50%      0.000000      1.000000\n",
       "75%      1.000000      2.000000\n",
       "max      2.000000      6.000000"
      ]
     },
     "execution_count": 60,
     "metadata": {},
     "output_type": "execute_result"
    }
   ],
   "source": [
    "scores = pd.DataFrame(scores_df.groupby(['videoA','videoB'])['score'].mean())\n",
    "scores['rating_count'] = scores_df.groupby(['videoA','videoB'])['score'].count()\n",
    "scores.describe()"
   ]
  },
  {
   "cell_type": "markdown",
   "metadata": {
    "pycharm": {
     "is_executing": false,
     "name": "#%% md\n"
    }
   },
   "source": [
    "### As we can see, theres only a maximum of 6 ratings per video comparison. Because we don't care about the individual video itself, but the quality of that video, let's use the video quality details to increase the amount of ratings per pair."
   ]
  },
  {
   "cell_type": "markdown",
   "metadata": {},
   "source": [
    "#### First, let's prepare the videos dataframe. We will treat all features as categorical. "
   ]
  },
  {
   "cell_type": "code",
   "execution_count": 61,
   "metadata": {
    "pycharm": {
     "is_executing": false,
     "name": "#%%\n"
    }
   },
   "outputs": [
    {
     "data": {
      "text/html": [
       "<div>\n",
       "<style scoped>\n",
       "    .dataframe tbody tr th:only-of-type {\n",
       "        vertical-align: middle;\n",
       "    }\n",
       "\n",
       "    .dataframe tbody tr th {\n",
       "        vertical-align: top;\n",
       "    }\n",
       "\n",
       "    .dataframe thead th {\n",
       "        text-align: right;\n",
       "    }\n",
       "</style>\n",
       "<table border=\"1\" class=\"dataframe\">\n",
       "  <thead>\n",
       "    <tr style=\"text-align: right;\">\n",
       "      <th></th>\n",
       "      <th>device</th>\n",
       "      <th>videoA_bitrate_1300</th>\n",
       "      <th>videoA_bitrate_2000</th>\n",
       "      <th>videoA_bitrate_2200</th>\n",
       "      <th>videoA_bitrate_3000</th>\n",
       "      <th>videoA_bitrate_3500</th>\n",
       "      <th>videoA_bitrate_4500</th>\n",
       "      <th>videoA_bitrate_5300</th>\n",
       "      <th>videoA_bitrate_7000</th>\n",
       "      <th>videoA_bitrate_8000</th>\n",
       "      <th>...</th>\n",
       "      <th>videoB_color_space_bt.709</th>\n",
       "      <th>videoB_eotf_SDR</th>\n",
       "      <th>videoB_frame_rate_24</th>\n",
       "      <th>videoB_frame_rate_29</th>\n",
       "      <th>videoB_frame_rate_60</th>\n",
       "      <th>videoB_output_resolution_1080 x 1920</th>\n",
       "      <th>videoB_output_resolution_360 x 640</th>\n",
       "      <th>videoB_output_resolution_540 x 960</th>\n",
       "      <th>videoB_output_resolution_720 x 1280</th>\n",
       "      <th>score</th>\n",
       "    </tr>\n",
       "  </thead>\n",
       "  <tbody>\n",
       "    <tr>\n",
       "      <th>0</th>\n",
       "      <td>iPad Pro 2 12.9</td>\n",
       "      <td>1</td>\n",
       "      <td>0</td>\n",
       "      <td>0</td>\n",
       "      <td>0</td>\n",
       "      <td>0</td>\n",
       "      <td>0</td>\n",
       "      <td>0</td>\n",
       "      <td>0</td>\n",
       "      <td>0</td>\n",
       "      <td>...</td>\n",
       "      <td>1</td>\n",
       "      <td>1</td>\n",
       "      <td>0</td>\n",
       "      <td>0</td>\n",
       "      <td>1</td>\n",
       "      <td>0</td>\n",
       "      <td>0</td>\n",
       "      <td>0</td>\n",
       "      <td>1</td>\n",
       "      <td>0</td>\n",
       "    </tr>\n",
       "    <tr>\n",
       "      <th>1</th>\n",
       "      <td>iPad Pro 2 12.9</td>\n",
       "      <td>0</td>\n",
       "      <td>0</td>\n",
       "      <td>0</td>\n",
       "      <td>0</td>\n",
       "      <td>0</td>\n",
       "      <td>0</td>\n",
       "      <td>1</td>\n",
       "      <td>0</td>\n",
       "      <td>0</td>\n",
       "      <td>...</td>\n",
       "      <td>1</td>\n",
       "      <td>1</td>\n",
       "      <td>0</td>\n",
       "      <td>0</td>\n",
       "      <td>1</td>\n",
       "      <td>1</td>\n",
       "      <td>0</td>\n",
       "      <td>0</td>\n",
       "      <td>0</td>\n",
       "      <td>-1</td>\n",
       "    </tr>\n",
       "    <tr>\n",
       "      <th>2</th>\n",
       "      <td>iPad Pro 2 12.9</td>\n",
       "      <td>0</td>\n",
       "      <td>0</td>\n",
       "      <td>0</td>\n",
       "      <td>0</td>\n",
       "      <td>0</td>\n",
       "      <td>0</td>\n",
       "      <td>1</td>\n",
       "      <td>0</td>\n",
       "      <td>0</td>\n",
       "      <td>...</td>\n",
       "      <td>1</td>\n",
       "      <td>1</td>\n",
       "      <td>0</td>\n",
       "      <td>0</td>\n",
       "      <td>1</td>\n",
       "      <td>0</td>\n",
       "      <td>0</td>\n",
       "      <td>0</td>\n",
       "      <td>1</td>\n",
       "      <td>0</td>\n",
       "    </tr>\n",
       "    <tr>\n",
       "      <th>3</th>\n",
       "      <td>iPhone X</td>\n",
       "      <td>0</td>\n",
       "      <td>0</td>\n",
       "      <td>0</td>\n",
       "      <td>0</td>\n",
       "      <td>0</td>\n",
       "      <td>0</td>\n",
       "      <td>0</td>\n",
       "      <td>0</td>\n",
       "      <td>1</td>\n",
       "      <td>...</td>\n",
       "      <td>1</td>\n",
       "      <td>1</td>\n",
       "      <td>0</td>\n",
       "      <td>1</td>\n",
       "      <td>0</td>\n",
       "      <td>0</td>\n",
       "      <td>0</td>\n",
       "      <td>0</td>\n",
       "      <td>1</td>\n",
       "      <td>0</td>\n",
       "    </tr>\n",
       "    <tr>\n",
       "      <th>4</th>\n",
       "      <td>iPad Pro 2 12.9</td>\n",
       "      <td>0</td>\n",
       "      <td>0</td>\n",
       "      <td>0</td>\n",
       "      <td>0</td>\n",
       "      <td>1</td>\n",
       "      <td>0</td>\n",
       "      <td>0</td>\n",
       "      <td>0</td>\n",
       "      <td>0</td>\n",
       "      <td>...</td>\n",
       "      <td>1</td>\n",
       "      <td>1</td>\n",
       "      <td>0</td>\n",
       "      <td>0</td>\n",
       "      <td>1</td>\n",
       "      <td>0</td>\n",
       "      <td>0</td>\n",
       "      <td>0</td>\n",
       "      <td>1</td>\n",
       "      <td>-2</td>\n",
       "    </tr>\n",
       "  </tbody>\n",
       "</table>\n",
       "<p>5 rows × 44 columns</p>\n",
       "</div>"
      ],
      "text/plain": [
       "            device  videoA_bitrate_1300  videoA_bitrate_2000  \\\n",
       "0  iPad Pro 2 12.9                    1                    0   \n",
       "1  iPad Pro 2 12.9                    0                    0   \n",
       "2  iPad Pro 2 12.9                    0                    0   \n",
       "3         iPhone X                    0                    0   \n",
       "4  iPad Pro 2 12.9                    0                    0   \n",
       "\n",
       "   videoA_bitrate_2200  videoA_bitrate_3000  videoA_bitrate_3500  \\\n",
       "0                    0                    0                    0   \n",
       "1                    0                    0                    0   \n",
       "2                    0                    0                    0   \n",
       "3                    0                    0                    0   \n",
       "4                    0                    0                    1   \n",
       "\n",
       "   videoA_bitrate_4500  videoA_bitrate_5300  videoA_bitrate_7000  \\\n",
       "0                    0                    0                    0   \n",
       "1                    0                    1                    0   \n",
       "2                    0                    1                    0   \n",
       "3                    0                    0                    0   \n",
       "4                    0                    0                    0   \n",
       "\n",
       "   videoA_bitrate_8000  ...  videoB_color_space_bt.709  videoB_eotf_SDR  \\\n",
       "0                    0  ...                          1                1   \n",
       "1                    0  ...                          1                1   \n",
       "2                    0  ...                          1                1   \n",
       "3                    1  ...                          1                1   \n",
       "4                    0  ...                          1                1   \n",
       "\n",
       "   videoB_frame_rate_24  videoB_frame_rate_29  videoB_frame_rate_60  \\\n",
       "0                     0                     0                     1   \n",
       "1                     0                     0                     1   \n",
       "2                     0                     0                     1   \n",
       "3                     0                     1                     0   \n",
       "4                     0                     0                     1   \n",
       "\n",
       "   videoB_output_resolution_1080 x 1920  videoB_output_resolution_360 x 640  \\\n",
       "0                                     0                                   0   \n",
       "1                                     1                                   0   \n",
       "2                                     0                                   0   \n",
       "3                                     0                                   0   \n",
       "4                                     0                                   0   \n",
       "\n",
       "   videoB_output_resolution_540 x 960  videoB_output_resolution_720 x 1280  \\\n",
       "0                                   0                                    1   \n",
       "1                                   0                                    0   \n",
       "2                                   0                                    1   \n",
       "3                                   0                                    1   \n",
       "4                                   0                                    1   \n",
       "\n",
       "   score  \n",
       "0      0  \n",
       "1     -1  \n",
       "2      0  \n",
       "3      0  \n",
       "4     -2  \n",
       "\n",
       "[5 rows x 44 columns]"
      ]
     },
     "execution_count": 61,
     "metadata": {},
     "output_type": "execute_result"
    }
   ],
   "source": [
    "videos_df = pd.read_csv(\"videos.csv\")\n",
    "videos_df[\"output_resolution\"] = videos_df[\"output_height\"].map(str) + \" x \" + videos_df[\"output_width\"].map(str)\n",
    "videos_df[\"bitrate\"] = videos_df[\"bitrate\"].map(str)\n",
    "videos_df[\"frame_rate\"] = videos_df[\"frame_rate\"].map(str)\n",
    "videos_df = videos_df.drop(videos_df.columns[[4,7,8,9,10]], axis=1) \n",
    "\n",
    "categorical_cols = ['bitrate', 'codec', 'color_space', 'eotf', 'frame_rate', 'output_resolution']\n",
    "videos_df_cat = videos_df[categorical_cols]\n",
    "videos_df_cat = pd.get_dummies(videos_df_cat, prefix=['bitrate', 'codec', 'color_space', 'eotf', 'frame_rate', 'output_resolution'])\n",
    "videos_df = pd.concat([videos_df[\"id\"],videos_df_cat], axis=1)\n",
    "\n",
    "videos_df_a = videos_df.add_prefix(\"videoA_\")\n",
    "videos_df_b = videos_df.add_prefix(\"videoB_\")\n",
    "\n",
    "df = scores_df.merge(videos_df_a, how='left', left_on='videoA', right_on='videoA_id')\n",
    "df = df.merge(videos_df_b, how='left', left_on='videoB', right_on='videoB_id')\n",
    "df = df.drop(df.columns[[1,2,4,26]], axis=1)\n",
    "\n",
    "#put score as last column\n",
    "scores = df['score']\n",
    "df.drop('score', axis=1, inplace=True)\n",
    "df['score'] = scores\n",
    "df.head()"
   ]
  },
  {
   "cell_type": "markdown",
   "metadata": {
    "pycharm": {
     "is_executing": false,
     "name": "#%% md\n"
    }
   },
   "source": [
    "### We will create a dataframe for each device and use it to create a linear regression. The goal of this is to determine the most important feature that determines the ratings."
   ]
  },
  {
   "cell_type": "code",
   "execution_count": 62,
   "metadata": {
    "pycharm": {
     "is_executing": false,
     "name": "#%%\n"
    }
   },
   "outputs": [
    {
     "name": "stdout",
     "output_type": "stream",
     "text": [
      "{'samsung SM-G960U': [], 'samsung SM-G975U1': [], 'simulator/sandbox': [], 'iPad Air': [], 'unknown sdk_google_atv_x86': [], 'iPhone 7': [], 'Google Pixel 3a': [], 'iPhone X': [], 'iPad Pro 2 12.9': [], 'iPad Pro 10.5': []}\n"
     ]
    }
   ],
   "source": [
    "devices = {}\n",
    "for device in df['device']:\n",
    "    devices[device] = []\n",
    "print(devices)"
   ]
  },
  {
   "cell_type": "code",
   "execution_count": 63,
   "metadata": {
    "pycharm": {
     "is_executing": false,
     "name": "#%%\n"
    }
   },
   "outputs": [
    {
     "data": {
      "text/html": [
       "<div>\n",
       "<style scoped>\n",
       "    .dataframe tbody tr th:only-of-type {\n",
       "        vertical-align: middle;\n",
       "    }\n",
       "\n",
       "    .dataframe tbody tr th {\n",
       "        vertical-align: top;\n",
       "    }\n",
       "\n",
       "    .dataframe thead th {\n",
       "        text-align: right;\n",
       "    }\n",
       "</style>\n",
       "<table border=\"1\" class=\"dataframe\">\n",
       "  <thead>\n",
       "    <tr style=\"text-align: right;\">\n",
       "      <th></th>\n",
       "      <th>0</th>\n",
       "      <th>1</th>\n",
       "    </tr>\n",
       "  </thead>\n",
       "  <tbody>\n",
       "    <tr>\n",
       "      <th>0</th>\n",
       "      <td>simulator/sandbox</td>\n",
       "      <td>videoB_bitrate_3500</td>\n",
       "    </tr>\n",
       "    <tr>\n",
       "      <th>1</th>\n",
       "      <td>iPad Air</td>\n",
       "      <td>videoA_output_resolution_540 x 960</td>\n",
       "    </tr>\n",
       "    <tr>\n",
       "      <th>2</th>\n",
       "      <td>unknown sdk_google_atv_x86</td>\n",
       "      <td>videoB_output_resolution_540 x 960</td>\n",
       "    </tr>\n",
       "    <tr>\n",
       "      <th>3</th>\n",
       "      <td>Google Pixel 3a</td>\n",
       "      <td>videoB_output_resolution_1080 x 1920</td>\n",
       "    </tr>\n",
       "    <tr>\n",
       "      <th>4</th>\n",
       "      <td>iPhone 7</td>\n",
       "      <td>videoA_bitrate_1300</td>\n",
       "    </tr>\n",
       "    <tr>\n",
       "      <th>5</th>\n",
       "      <td>iPad Pro 2 12.9</td>\n",
       "      <td>videoA_bitrate_850</td>\n",
       "    </tr>\n",
       "    <tr>\n",
       "      <th>6</th>\n",
       "      <td>iPad Pro 10.5</td>\n",
       "      <td>videoA_output_resolution_720 x 1280</td>\n",
       "    </tr>\n",
       "  </tbody>\n",
       "</table>\n",
       "</div>"
      ],
      "text/plain": [
       "                            0                                     1\n",
       "0           simulator/sandbox                   videoB_bitrate_3500\n",
       "1                    iPad Air    videoA_output_resolution_540 x 960\n",
       "2  unknown sdk_google_atv_x86    videoB_output_resolution_540 x 960\n",
       "3             Google Pixel 3a  videoB_output_resolution_1080 x 1920\n",
       "4                    iPhone 7                   videoA_bitrate_1300\n",
       "5             iPad Pro 2 12.9                    videoA_bitrate_850\n",
       "6               iPad Pro 10.5   videoA_output_resolution_720 x 1280"
      ]
     },
     "execution_count": 63,
     "metadata": {},
     "output_type": "execute_result"
    }
   ],
   "source": [
    "from sklearn.model_selection import train_test_split\n",
    "from sklearn.linear_model import LinearRegression\n",
    "\n",
    "features = df.columns[1:(len(df.columns)-2)]\n",
    "most_important_features = {}\n",
    "\n",
    "for device in devices:\n",
    "    d = []\n",
    "    for index, row in df.iterrows():\n",
    "        if row['device'] == device:\n",
    "            d.append(row)\n",
    "    d_df = pd.DataFrame(d)\n",
    "    \n",
    "    if len(d_df) > 3:\n",
    "        X = d_df[features]\n",
    "        y = d_df['score']\n",
    "        X_train, X_test, y_train, y_test = train_test_split(X, y, test_size=0.35, random_state=5)\n",
    "        linreg = LinearRegression()\n",
    "        linreg.fit(X_train, y_train)\n",
    "\n",
    "        most_important = 0\n",
    "        for i in range(len(linreg.coef_)):\n",
    "            if max(linreg.coef_[most_important], linreg.coef_[i], key=abs) == linreg.coef_[i]:\n",
    "                most_important = i\n",
    "\n",
    "        most_important_features[device] = features[most_important]\n",
    "df_most_important_features = pd.DataFrame(list(most_important_features.items()))\n",
    "df_most_important_features"
   ]
  },
  {
   "cell_type": "markdown",
   "metadata": {
    "pycharm": {
     "is_executing": false,
     "name": "#%% md\n"
    }
   },
   "source": [
    "#### Here, we can conclude that for different devices, different features were most import"
   ]
  },
  {
   "cell_type": "markdown",
   "metadata": {},
   "source": [
    "#### Next, we will get the average scores and scores counts. Here we can see that while we have about the max rating count is 33 rather than just 6."
   ]
  },
  {
   "cell_type": "code",
   "execution_count": 64,
   "metadata": {
    "pycharm": {
     "is_executing": false,
     "name": "#%%\n"
    }
   },
   "outputs": [
    {
     "data": {
      "text/html": [
       "<div>\n",
       "<style scoped>\n",
       "    .dataframe tbody tr th:only-of-type {\n",
       "        vertical-align: middle;\n",
       "    }\n",
       "\n",
       "    .dataframe tbody tr th {\n",
       "        vertical-align: top;\n",
       "    }\n",
       "\n",
       "    .dataframe thead th {\n",
       "        text-align: right;\n",
       "    }\n",
       "</style>\n",
       "<table border=\"1\" class=\"dataframe\">\n",
       "  <thead>\n",
       "    <tr style=\"text-align: right;\">\n",
       "      <th></th>\n",
       "      <th></th>\n",
       "      <th></th>\n",
       "      <th></th>\n",
       "      <th></th>\n",
       "      <th></th>\n",
       "      <th></th>\n",
       "      <th></th>\n",
       "      <th></th>\n",
       "      <th></th>\n",
       "      <th></th>\n",
       "      <th></th>\n",
       "      <th></th>\n",
       "      <th></th>\n",
       "      <th></th>\n",
       "      <th></th>\n",
       "      <th></th>\n",
       "      <th></th>\n",
       "      <th></th>\n",
       "      <th></th>\n",
       "      <th></th>\n",
       "      <th></th>\n",
       "      <th></th>\n",
       "      <th></th>\n",
       "      <th></th>\n",
       "      <th></th>\n",
       "      <th></th>\n",
       "      <th></th>\n",
       "      <th></th>\n",
       "      <th></th>\n",
       "      <th></th>\n",
       "      <th></th>\n",
       "      <th></th>\n",
       "      <th></th>\n",
       "      <th></th>\n",
       "      <th></th>\n",
       "      <th></th>\n",
       "      <th></th>\n",
       "      <th></th>\n",
       "      <th></th>\n",
       "      <th></th>\n",
       "      <th></th>\n",
       "      <th></th>\n",
       "      <th>score</th>\n",
       "      <th>rating_count</th>\n",
       "    </tr>\n",
       "    <tr>\n",
       "      <th>device</th>\n",
       "      <th>videoA_bitrate_1300</th>\n",
       "      <th>videoA_bitrate_2000</th>\n",
       "      <th>videoA_bitrate_2200</th>\n",
       "      <th>videoA_bitrate_3000</th>\n",
       "      <th>videoA_bitrate_3500</th>\n",
       "      <th>videoA_bitrate_4500</th>\n",
       "      <th>videoA_bitrate_5300</th>\n",
       "      <th>videoA_bitrate_7000</th>\n",
       "      <th>videoA_bitrate_8000</th>\n",
       "      <th>videoA_bitrate_850</th>\n",
       "      <th>videoA_codec_AVC</th>\n",
       "      <th>videoA_codec_HEVC</th>\n",
       "      <th>videoA_color_space_bt.709</th>\n",
       "      <th>videoA_eotf_SDR</th>\n",
       "      <th>videoA_frame_rate_24</th>\n",
       "      <th>videoA_frame_rate_29</th>\n",
       "      <th>videoA_frame_rate_60</th>\n",
       "      <th>videoA_output_resolution_1080 x 1920</th>\n",
       "      <th>videoA_output_resolution_360 x 640</th>\n",
       "      <th>videoA_output_resolution_540 x 960</th>\n",
       "      <th>videoA_output_resolution_720 x 1280</th>\n",
       "      <th>videoB_bitrate_1300</th>\n",
       "      <th>videoB_bitrate_2000</th>\n",
       "      <th>videoB_bitrate_2200</th>\n",
       "      <th>videoB_bitrate_3000</th>\n",
       "      <th>videoB_bitrate_3500</th>\n",
       "      <th>videoB_bitrate_4500</th>\n",
       "      <th>videoB_bitrate_5300</th>\n",
       "      <th>videoB_bitrate_7000</th>\n",
       "      <th>videoB_bitrate_8000</th>\n",
       "      <th>videoB_bitrate_850</th>\n",
       "      <th>videoB_codec_AVC</th>\n",
       "      <th>videoB_codec_HEVC</th>\n",
       "      <th>videoB_color_space_bt.709</th>\n",
       "      <th>videoB_eotf_SDR</th>\n",
       "      <th>videoB_frame_rate_24</th>\n",
       "      <th>videoB_frame_rate_29</th>\n",
       "      <th>videoB_frame_rate_60</th>\n",
       "      <th>videoB_output_resolution_1080 x 1920</th>\n",
       "      <th>videoB_output_resolution_360 x 640</th>\n",
       "      <th>videoB_output_resolution_540 x 960</th>\n",
       "      <th>videoB_output_resolution_720 x 1280</th>\n",
       "      <th></th>\n",
       "      <th></th>\n",
       "    </tr>\n",
       "  </thead>\n",
       "  <tbody>\n",
       "    <tr>\n",
       "      <th rowspan=\"5\" valign=\"top\">Google Pixel 3a</th>\n",
       "      <th rowspan=\"5\" valign=\"top\">0</th>\n",
       "      <th rowspan=\"5\" valign=\"top\">0</th>\n",
       "      <th rowspan=\"4\" valign=\"top\">0</th>\n",
       "      <th rowspan=\"4\" valign=\"top\">0</th>\n",
       "      <th rowspan=\"3\" valign=\"top\">0</th>\n",
       "      <th rowspan=\"3\" valign=\"top\">0</th>\n",
       "      <th>0</th>\n",
       "      <th>0</th>\n",
       "      <th>1</th>\n",
       "      <th>0</th>\n",
       "      <th>0</th>\n",
       "      <th>1</th>\n",
       "      <th>1</th>\n",
       "      <th>1</th>\n",
       "      <th>0</th>\n",
       "      <th>0</th>\n",
       "      <th>1</th>\n",
       "      <th>1</th>\n",
       "      <th>0</th>\n",
       "      <th>0</th>\n",
       "      <th>0</th>\n",
       "      <th>1</th>\n",
       "      <th>0</th>\n",
       "      <th>0</th>\n",
       "      <th>0</th>\n",
       "      <th>0</th>\n",
       "      <th>0</th>\n",
       "      <th>0</th>\n",
       "      <th>0</th>\n",
       "      <th>0</th>\n",
       "      <th>0</th>\n",
       "      <th>0</th>\n",
       "      <th>1</th>\n",
       "      <th>1</th>\n",
       "      <th>1</th>\n",
       "      <th>0</th>\n",
       "      <th>0</th>\n",
       "      <th>1</th>\n",
       "      <th>0</th>\n",
       "      <th>0</th>\n",
       "      <th>0</th>\n",
       "      <th>1</th>\n",
       "      <td>-2.0</td>\n",
       "      <td>1</td>\n",
       "    </tr>\n",
       "    <tr>\n",
       "      <th rowspan=\"2\" valign=\"top\">1</th>\n",
       "      <th rowspan=\"2\" valign=\"top\">0</th>\n",
       "      <th rowspan=\"2\" valign=\"top\">0</th>\n",
       "      <th rowspan=\"2\" valign=\"top\">0</th>\n",
       "      <th rowspan=\"2\" valign=\"top\">0</th>\n",
       "      <th rowspan=\"2\" valign=\"top\">1</th>\n",
       "      <th rowspan=\"2\" valign=\"top\">1</th>\n",
       "      <th rowspan=\"2\" valign=\"top\">1</th>\n",
       "      <th rowspan=\"2\" valign=\"top\">0</th>\n",
       "      <th rowspan=\"2\" valign=\"top\">0</th>\n",
       "      <th rowspan=\"2\" valign=\"top\">1</th>\n",
       "      <th rowspan=\"2\" valign=\"top\">0</th>\n",
       "      <th rowspan=\"2\" valign=\"top\">0</th>\n",
       "      <th rowspan=\"2\" valign=\"top\">0</th>\n",
       "      <th rowspan=\"2\" valign=\"top\">1</th>\n",
       "      <th rowspan=\"2\" valign=\"top\">0</th>\n",
       "      <th rowspan=\"2\" valign=\"top\">0</th>\n",
       "      <th rowspan=\"2\" valign=\"top\">0</th>\n",
       "      <th rowspan=\"2\" valign=\"top\">0</th>\n",
       "      <th>0</th>\n",
       "      <th>0</th>\n",
       "      <th>0</th>\n",
       "      <th>0</th>\n",
       "      <th>0</th>\n",
       "      <th>1</th>\n",
       "      <th>0</th>\n",
       "      <th>1</th>\n",
       "      <th>1</th>\n",
       "      <th>1</th>\n",
       "      <th>0</th>\n",
       "      <th>1</th>\n",
       "      <th>0</th>\n",
       "      <th>0</th>\n",
       "      <th>1</th>\n",
       "      <th>0</th>\n",
       "      <th>0</th>\n",
       "      <td>-2.0</td>\n",
       "      <td>1</td>\n",
       "    </tr>\n",
       "    <tr>\n",
       "      <th>1</th>\n",
       "      <th>0</th>\n",
       "      <th>0</th>\n",
       "      <th>0</th>\n",
       "      <th>0</th>\n",
       "      <th>0</th>\n",
       "      <th>0</th>\n",
       "      <th>1</th>\n",
       "      <th>1</th>\n",
       "      <th>1</th>\n",
       "      <th>0</th>\n",
       "      <th>0</th>\n",
       "      <th>1</th>\n",
       "      <th>1</th>\n",
       "      <th>0</th>\n",
       "      <th>0</th>\n",
       "      <th>0</th>\n",
       "      <td>-0.5</td>\n",
       "      <td>2</td>\n",
       "    </tr>\n",
       "    <tr>\n",
       "      <th>1</th>\n",
       "      <th>0</th>\n",
       "      <th>0</th>\n",
       "      <th>0</th>\n",
       "      <th>0</th>\n",
       "      <th>0</th>\n",
       "      <th>0</th>\n",
       "      <th>1</th>\n",
       "      <th>1</th>\n",
       "      <th>1</th>\n",
       "      <th>0</th>\n",
       "      <th>0</th>\n",
       "      <th>1</th>\n",
       "      <th>0</th>\n",
       "      <th>0</th>\n",
       "      <th>0</th>\n",
       "      <th>1</th>\n",
       "      <th>1</th>\n",
       "      <th>0</th>\n",
       "      <th>0</th>\n",
       "      <th>0</th>\n",
       "      <th>0</th>\n",
       "      <th>0</th>\n",
       "      <th>0</th>\n",
       "      <th>0</th>\n",
       "      <th>0</th>\n",
       "      <th>0</th>\n",
       "      <th>0</th>\n",
       "      <th>1</th>\n",
       "      <th>1</th>\n",
       "      <th>1</th>\n",
       "      <th>0</th>\n",
       "      <th>0</th>\n",
       "      <th>1</th>\n",
       "      <th>0</th>\n",
       "      <th>0</th>\n",
       "      <th>0</th>\n",
       "      <th>1</th>\n",
       "      <td>-2.0</td>\n",
       "      <td>1</td>\n",
       "    </tr>\n",
       "    <tr>\n",
       "      <th>1</th>\n",
       "      <th>0</th>\n",
       "      <th>0</th>\n",
       "      <th>0</th>\n",
       "      <th>0</th>\n",
       "      <th>0</th>\n",
       "      <th>0</th>\n",
       "      <th>0</th>\n",
       "      <th>0</th>\n",
       "      <th>1</th>\n",
       "      <th>1</th>\n",
       "      <th>1</th>\n",
       "      <th>0</th>\n",
       "      <th>1</th>\n",
       "      <th>0</th>\n",
       "      <th>0</th>\n",
       "      <th>0</th>\n",
       "      <th>0</th>\n",
       "      <th>1</th>\n",
       "      <th>0</th>\n",
       "      <th>0</th>\n",
       "      <th>0</th>\n",
       "      <th>0</th>\n",
       "      <th>0</th>\n",
       "      <th>0</th>\n",
       "      <th>1</th>\n",
       "      <th>0</th>\n",
       "      <th>0</th>\n",
       "      <th>0</th>\n",
       "      <th>0</th>\n",
       "      <th>1</th>\n",
       "      <th>1</th>\n",
       "      <th>1</th>\n",
       "      <th>0</th>\n",
       "      <th>0</th>\n",
       "      <th>1</th>\n",
       "      <th>0</th>\n",
       "      <th>0</th>\n",
       "      <th>0</th>\n",
       "      <th>1</th>\n",
       "      <td>0.0</td>\n",
       "      <td>1</td>\n",
       "    </tr>\n",
       "  </tbody>\n",
       "</table>\n",
       "</div>"
      ],
      "text/plain": [
       "                                                                                                                                                                                                                                                                                                                                                                                                                                                                                                                                                                                                                                                                                                                                                                                                                                                                                                                                                                                                                     score  \\\n",
       "device          videoA_bitrate_1300 videoA_bitrate_2000 videoA_bitrate_2200 videoA_bitrate_3000 videoA_bitrate_3500 videoA_bitrate_4500 videoA_bitrate_5300 videoA_bitrate_7000 videoA_bitrate_8000 videoA_bitrate_850 videoA_codec_AVC videoA_codec_HEVC videoA_color_space_bt.709 videoA_eotf_SDR videoA_frame_rate_24 videoA_frame_rate_29 videoA_frame_rate_60 videoA_output_resolution_1080 x 1920 videoA_output_resolution_360 x 640 videoA_output_resolution_540 x 960 videoA_output_resolution_720 x 1280 videoB_bitrate_1300 videoB_bitrate_2000 videoB_bitrate_2200 videoB_bitrate_3000 videoB_bitrate_3500 videoB_bitrate_4500 videoB_bitrate_5300 videoB_bitrate_7000 videoB_bitrate_8000 videoB_bitrate_850 videoB_codec_AVC videoB_codec_HEVC videoB_color_space_bt.709 videoB_eotf_SDR videoB_frame_rate_24 videoB_frame_rate_29 videoB_frame_rate_60 videoB_output_resolution_1080 x 1920 videoB_output_resolution_360 x 640 videoB_output_resolution_540 x 960 videoB_output_resolution_720 x 1280          \n",
       "Google Pixel 3a 0                   0                   0                   0                   0                   0                   0                   0                   1                   0                  0                1                 1                         1               0                    0                    1                    1                                    0                                  0                                  0                                   1                   0                   0                   0                   0                   0                   0                   0                   0                   0                  0                1                 1                         1               0                    0                    1                    0                                    0                                  0                                  1                                     -2.0   \n",
       "                                                                                                                                        1                   0                   0                   0                  0                1                 1                         1               0                    0                    1                    0                                    0                                  0                                  1                                   0                   0                   0                   0                   0                   0                   0                   0                   0                   1                  0                1                 1                         1               0                    1                    0                    0                                    1                                  0                                  0                                     -2.0   \n",
       "                                                                                                                                                                                                                                                                                                                                                                                                                                                                                                                                                                                                  1                   0                   0                   0                   0                   0                  0                1                 1                         1               0                    0                    1                    1                                    0                                  0                                  0                                     -0.5   \n",
       "                                                                                                1                   0                   0                   0                   0                   0                  0                1                 1                         1               0                    0                    1                    0                                    0                                  0                                  1                                   1                   0                   0                   0                   0                   0                   0                   0                   0                   0                  0                1                 1                         1               0                    0                    1                    0                                    0                                  0                                  1                                     -2.0   \n",
       "                                                        1                   0                   0                   0                   0                   0                   0                   0                  0                1                 1                         1               0                    1                    0                    0                                    0                                  0                                  1                                   0                   0                   0                   0                   0                   0                   1                   0                   0                   0                  0                1                 1                         1               0                    0                    1                    0                                    0                                  0                                  1                                      0.0   \n",
       "\n",
       "                                                                                                                                                                                                                                                                                                                                                                                                                                                                                                                                                                                                                                                                                                                                                                                                                                                                                                                                                                                                                     rating_count  \n",
       "device          videoA_bitrate_1300 videoA_bitrate_2000 videoA_bitrate_2200 videoA_bitrate_3000 videoA_bitrate_3500 videoA_bitrate_4500 videoA_bitrate_5300 videoA_bitrate_7000 videoA_bitrate_8000 videoA_bitrate_850 videoA_codec_AVC videoA_codec_HEVC videoA_color_space_bt.709 videoA_eotf_SDR videoA_frame_rate_24 videoA_frame_rate_29 videoA_frame_rate_60 videoA_output_resolution_1080 x 1920 videoA_output_resolution_360 x 640 videoA_output_resolution_540 x 960 videoA_output_resolution_720 x 1280 videoB_bitrate_1300 videoB_bitrate_2000 videoB_bitrate_2200 videoB_bitrate_3000 videoB_bitrate_3500 videoB_bitrate_4500 videoB_bitrate_5300 videoB_bitrate_7000 videoB_bitrate_8000 videoB_bitrate_850 videoB_codec_AVC videoB_codec_HEVC videoB_color_space_bt.709 videoB_eotf_SDR videoB_frame_rate_24 videoB_frame_rate_29 videoB_frame_rate_60 videoB_output_resolution_1080 x 1920 videoB_output_resolution_360 x 640 videoB_output_resolution_540 x 960 videoB_output_resolution_720 x 1280                \n",
       "Google Pixel 3a 0                   0                   0                   0                   0                   0                   0                   0                   1                   0                  0                1                 1                         1               0                    0                    1                    1                                    0                                  0                                  0                                   1                   0                   0                   0                   0                   0                   0                   0                   0                   0                  0                1                 1                         1               0                    0                    1                    0                                    0                                  0                                  1                                               1  \n",
       "                                                                                                                                        1                   0                   0                   0                  0                1                 1                         1               0                    0                    1                    0                                    0                                  0                                  1                                   0                   0                   0                   0                   0                   0                   0                   0                   0                   1                  0                1                 1                         1               0                    1                    0                    0                                    1                                  0                                  0                                               1  \n",
       "                                                                                                                                                                                                                                                                                                                                                                                                                                                                                                                                                                                                  1                   0                   0                   0                   0                   0                  0                1                 1                         1               0                    0                    1                    1                                    0                                  0                                  0                                               2  \n",
       "                                                                                                1                   0                   0                   0                   0                   0                  0                1                 1                         1               0                    0                    1                    0                                    0                                  0                                  1                                   1                   0                   0                   0                   0                   0                   0                   0                   0                   0                  0                1                 1                         1               0                    0                    1                    0                                    0                                  0                                  1                                               1  \n",
       "                                                        1                   0                   0                   0                   0                   0                   0                   0                  0                1                 1                         1               0                    1                    0                    0                                    0                                  0                                  1                                   0                   0                   0                   0                   0                   0                   1                   0                   0                   0                  0                1                 1                         1               0                    0                    1                    0                                    0                                  0                                  1                                               1  "
      ]
     },
     "execution_count": 64,
     "metadata": {},
     "output_type": "execute_result"
    }
   ],
   "source": [
    "avg_score_cols = list(df)[:-1]\n",
    "avg_scores = pd.DataFrame(df.groupby(avg_score_cols)['score'].mean())\n",
    "avg_scores['rating_count'] = df.groupby(avg_score_cols)['score'].count()\n",
    "avg_scores.head()"
   ]
  },
  {
   "cell_type": "markdown",
   "metadata": {},
   "source": [
    "\n",
    "#### Building a Histogram to vizualize the ratings"
   ]
  },
  {
   "cell_type": "code",
   "execution_count": 65,
   "metadata": {
    "pycharm": {
     "is_executing": false,
     "name": "#%%\n"
    }
   },
   "outputs": [
    {
     "data": {
      "text/plain": [
       "<matplotlib.axes._subplots.AxesSubplot at 0x1252aadd0>"
      ]
     },
     "execution_count": 65,
     "metadata": {},
     "output_type": "execute_result"
    },
    {
     "data": {
      "image/png": "[encoded data removed]",
      "text/plain": [
       "<Figure size 432x288 with 1 Axes>"
      ]
     },
     "metadata": {
      "needs_background": "light"
     },
     "output_type": "display_data"
    }
   ],
   "source": [
    "import matplotlib.pyplot as plt\n",
    "%matplotlib inline\n",
    "avg_scores['score'].hist(bins=20)\n"
   ]
  },
  {
   "cell_type": "code",
   "execution_count": 66,
   "metadata": {
    "pycharm": {
     "is_executing": false,
     "name": "#%%\n"
    }
   },
   "outputs": [
    {
     "data": {
      "text/plain": [
       "<matplotlib.axes._subplots.AxesSubplot at 0x1252aa790>"
      ]
     },
     "execution_count": 66,
     "metadata": {},
     "output_type": "execute_result"
    },
    {
     "data": {
      "image/png": "[encoded data removed]",
      "text/plain": [
       "<Figure size 432x288 with 1 Axes>"
      ]
     },
     "metadata": {
      "needs_background": "light"
     },
     "output_type": "display_data"
    }
   ],
   "source": [
    "avg_scores['rating_count'].hist(bins=20)"
   ]
  },
  {
   "cell_type": "markdown",
   "metadata": {},
   "source": [
    "\n",
    "#### Using the jointplot() function to to check the relationship between average score and score count."
   ]
  },
  {
   "cell_type": "code",
   "execution_count": 67,
   "metadata": {
    "pycharm": {
     "is_executing": false,
     "name": "#%%\n"
    }
   },
   "outputs": [
    {
     "data": {
      "text/plain": [
       "<seaborn.axisgrid.JointGrid at 0x1259ae750>"
      ]
     },
     "execution_count": 67,
     "metadata": {},
     "output_type": "execute_result"
    },
    {
     "data": {
      "image/png": "[encoded data removed]",
      "text/plain": [
       "<Figure size 432x432 with 3 Axes>"
      ]
     },
     "metadata": {
      "needs_background": "light"
     },
     "output_type": "display_data"
    }
   ],
   "source": [
    "import seaborn as sns\n",
    "sns.jointplot (x='score', y='rating_count', data=avg_scores)"
   ]
  },
  {
   "cell_type": "code",
   "execution_count": null,
   "metadata": {},
   "outputs": [],
   "source": []
  }
 ],
 "metadata": {
  "kernelspec": {
   "display_name": "Python 2",
   "language": "python",
   "name": "python2"
  },
  "language_info": {
   "codemirror_mode": {
    "name": "ipython",
    "version": 2
   },
   "file_extension": ".py",
   "mimetype": "text/x-python",
   "name": "python",
   "nbconvert_exporter": "python",
   "pygments_lexer": "ipython2",
   "version": "2.7.16"
  },
  "pycharm": {
   "stem_cell": {
    "cell_type": "raw",
    "metadata": {
     "collapsed": false
    },
    "source": []
   }
  }
 },
 "nbformat": 4,
 "nbformat_minor": 1
}
